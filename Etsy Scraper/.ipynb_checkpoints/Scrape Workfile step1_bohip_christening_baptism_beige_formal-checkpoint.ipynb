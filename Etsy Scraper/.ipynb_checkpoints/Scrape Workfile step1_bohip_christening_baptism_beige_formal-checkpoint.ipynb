{
 "cells": [
  {
   "cell_type": "markdown",
   "id": "a8a531ff",
   "metadata": {},
   "source": [
    "# Step 1 Scrapebook \n",
    "\n",
    "To get more data, we will scrape listings by color - \n",
    "\n",
    "**Please run all.**\n",
    "\n",
    "You may have to pip install tqdm - a library to implement a progress bar."
   ]
  },
  {
   "cell_type": "code",
   "execution_count": null,
   "id": "45bf9e0b",
   "metadata": {},
   "outputs": [],
   "source": [
    "!pip install tqdm"
   ]
  },
  {
   "cell_type": "markdown",
   "id": "2b1fb3d9",
   "metadata": {},
   "source": [
    "This notebook scrapes the following Etsy search queries front to back:\n",
    "\n",
    "christening gown:\n",
    "https://www.etsy.com/search/clothing/girls-clothing/baby-girls-clothing?q=christening+gown&explicit=1&ship_to=DE&page=2&ref=pagination\n",
    "\n",
    "baptism:\n",
    "https://www.etsy.com/search/clothing/girls-clothing?q=baptism+girl+dress&explicit=1&ship_to=DE&page=2&ref=pagination\n",
    "\n",
    "flower girl dress - boho/hippie:\n",
    "https://www.etsy.com/search/clothing/girls-clothing?q=flower+girl+dress&explicit=1&attr_378=2405&ship_to=DE&order=highest_reviews\n",
    "\n",
    "flower girl dress - formal:\n",
    "https://www.etsy.com/search/clothing/girls-clothing?q=flower+girl+dress&explicit=1&attr_378=2546&ship_to=DE&order=highest_reviews\n",
    "\n",
    "beige:\n",
    "https://www.etsy.com/search/clothing/girls-clothing?q=flower+girl+dress&explicit=1&attr_1=1213&ship_to=DE&order=highest_reviews&page=2&ref=pagination"
   ]
  },
  {
   "cell_type": "code",
   "execution_count": 2,
   "id": "6ccf3511",
   "metadata": {},
   "outputs": [],
   "source": [
    "import pandas as pd\n",
    "import csv\n",
    "import requests\n",
    "from bs4 import BeautifulSoup\n",
    "from random import randint\n",
    "from time import sleep\n",
    "import tqdm\n",
    "import re"
   ]
  },
  {
   "cell_type": "code",
   "execution_count": 3,
   "id": "291c1d2a",
   "metadata": {},
   "outputs": [],
   "source": [
    "def step1(query):\n",
    "    \n",
    "    # empty scraping lists to append to:\n",
    "    global listing_name\n",
    "    listing_name = []\n",
    "    global listing_url\n",
    "    listing_url = []\n",
    "    global listing_image\n",
    "    listing_image = []\n",
    "\n",
    "    # link that will iterate by page to url in loop:\n",
    "    link = query\n",
    "\n",
    "    # key that will iterate listing by listing in nested loop:\n",
    "    key = \"#content > div > div.wt-bg-white.wt-grid__item-md-12.wt-pl-xs-1.wt-pr-xs-0.wt-pr-md-1.wt-pl-lg-0.wt-pr-lg-0.wt-bb-xs-1 > div > div.wt-mt-xs-3.wt-text-black > div.wt-grid.wt-pl-xs-0.wt-pr-xs-0.search-listings-group > div:nth-child(3) > div.wt-bg-white.wt-display-block.wt-pb-xs-2.wt-mt-xs-0 > div:nth-child(1) > div > div > ul > li:nth-child({})\"\n",
    "\n",
    "    # cycle through search results until page 250 and scrape soup:\n",
    "    for i in tqdm.tqdm(range(1,251)): # tqdm code for progress bar\n",
    "        url = link.format(i)\n",
    "        response = requests.get(url)\n",
    "        soup = BeautifulSoup(response.text,\"html.parser\")\n",
    "\n",
    "        # nested loop to scrape listing info:\n",
    "        for o in range(1,9):\n",
    "            x = key.format(o)\n",
    "            # items to scrape:\n",
    "            title = soup.select(x)[0].a[\"title\"]\n",
    "            href = soup.select(x)[0].a[\"href\"]\n",
    "            src = soup.select(x)[0].a.img[\"src\"]\n",
    "            # append results to scraping lists:\n",
    "            listing_name.append(title)\n",
    "            listing_url.append(href)\n",
    "            listing_image.append(src)\n",
    "\n",
    "        # random sleep duration between page cycles:\n",
    "        wait_time = randint(1,4000)\n",
    "        sleep(wait_time/1000)"
   ]
  },
  {
   "cell_type": "code",
   "execution_count": 1,
   "id": "c2c15828",
   "metadata": {},
   "outputs": [],
   "source": [
    "# search_queries list\n",
    "christening = \"https://www.etsy.com/search/clothing/girls-clothing/baby-girls-clothing?q=christening+gown&explicit=1&ship_to=DE&page={}&ref=pagination\"\n",
    "baptism = \"https://www.etsy.com/search/clothing/girls-clothing?q=baptism+girl+dress&explicit=1&ship_to=DE&page={}&ref=pagination\"\n",
    "bohip = \"https://www.etsy.com/search/clothing/girls-clothing?q=flower+girl+dress&explicit=1&attr_378=2405&ship_to=DE&order=highest_reviews&page={}&ref=pagination\"\n",
    "formal = \"https://www.etsy.com/search/clothing/girls-clothing?q=flower+girl+dress&explicit=1&attr_378=2546&ship_to=DE&order=highest_reviews&page={}&ref=pagination\"\n",
    "beige = \"https://www.etsy.com/search/clothing/girls-clothing?q=flower+girl+dress&explicit=1&attr_1=1213&ship_to=DE&order=highest_reviews&page={}&ref=pagination\""
   ]
  },
  {
   "cell_type": "code",
   "execution_count": null,
   "id": "876987bb",
   "metadata": {},
   "outputs": [
    {
     "name": "stderr",
     "output_type": "stream",
     "text": [
      " 10%|████▏                                     | 25/250 [01:32<13:25,  3.58s/it]"
     ]
    }
   ],
   "source": [
    "step1(\"https://www.etsy.com/search?q=flower+girl+dress&explicit=1&attr_3=32%2C17%2C21%2C23&locationQuery=2921044&ship_to=DE\")"
   ]
  },
  {
   "cell_type": "code",
   "execution_count": null,
   "id": "0dbf1356",
   "metadata": {},
   "outputs": [],
   "source": [
    "data_tuples = list(zip(listing_name,listing_url,listing_image))\n",
    "step1_christening = pd.DataFrame(data_tuples, columns=['listing_name','listing_url','listing_image'])"
   ]
  },
  {
   "cell_type": "code",
   "execution_count": null,
   "id": "a93804b9",
   "metadata": {},
   "outputs": [],
   "source": [
    "step1(baptism)"
   ]
  },
  {
   "cell_type": "code",
   "execution_count": null,
   "id": "0fc23b7e",
   "metadata": {},
   "outputs": [],
   "source": [
    "data_tuples = list(zip(listing_name,listing_url,listing_image))\n",
    "step1_baptism = pd.DataFrame(data_tuples, columns=['listing_name','listing_url','listing_image'])"
   ]
  },
  {
   "cell_type": "code",
   "execution_count": null,
   "id": "25e36343",
   "metadata": {},
   "outputs": [],
   "source": [
    "step1(bohip)"
   ]
  },
  {
   "cell_type": "code",
   "execution_count": null,
   "id": "3b92b6e8",
   "metadata": {},
   "outputs": [],
   "source": [
    "data_tuples = list(zip(listing_name,listing_url,listing_image))\n",
    "step1_bohip = pd.DataFrame(data_tuples, columns=['listing_name','listing_url','listing_image'])"
   ]
  },
  {
   "cell_type": "code",
   "execution_count": null,
   "id": "df174ea9",
   "metadata": {},
   "outputs": [],
   "source": [
    "step1(formal)"
   ]
  },
  {
   "cell_type": "code",
   "execution_count": null,
   "id": "fa97c113",
   "metadata": {},
   "outputs": [],
   "source": [
    "data_tuples = list(zip(listing_name,listing_url,listing_image))\n",
    "step1_formal = pd.DataFrame(data_tuples, columns=['listing_name','listing_url','listing_image'])"
   ]
  },
  {
   "cell_type": "code",
   "execution_count": null,
   "id": "dcba41f7",
   "metadata": {},
   "outputs": [],
   "source": [
    "step1(beige)"
   ]
  },
  {
   "cell_type": "code",
   "execution_count": null,
   "id": "af2e5f82",
   "metadata": {},
   "outputs": [],
   "source": [
    "data_tuples = list(zip(listing_name,listing_url,listing_image))\n",
    "step1_beige = pd.DataFrame(data_tuples, columns=['listing_name','listing_url','listing_image'])"
   ]
  },
  {
   "cell_type": "code",
   "execution_count": null,
   "id": "f2697b41",
   "metadata": {},
   "outputs": [],
   "source": [
    "step1_bohip_christening_baptism_beige_formal = pd.concat(step1_beige,step1_formal,step1_bohip,step1_baptism,step1_christening)"
   ]
  },
  {
   "cell_type": "markdown",
   "id": "8a102684",
   "metadata": {},
   "source": [
    "**The below should yield a df with shape of (10000, 3)**"
   ]
  },
  {
   "cell_type": "code",
   "execution_count": null,
   "id": "01a0a72f",
   "metadata": {},
   "outputs": [],
   "source": [
    "step1_bohip_christening_baptism_beige_formal.shape"
   ]
  },
  {
   "cell_type": "code",
   "execution_count": null,
   "id": "da55efb0",
   "metadata": {},
   "outputs": [],
   "source": [
    "step1_bohip_christening_baptism_beige_formal.to_csv('step1_white_pink_blue_red_gold.csv',index=False)"
   ]
  }
 ],
 "metadata": {
  "kernelspec": {
   "display_name": "Python 3 (ipykernel)",
   "language": "python",
   "name": "python3"
  },
  "language_info": {
   "codemirror_mode": {
    "name": "ipython",
    "version": 3
   },
   "file_extension": ".py",
   "mimetype": "text/x-python",
   "name": "python",
   "nbconvert_exporter": "python",
   "pygments_lexer": "ipython3",
   "version": "3.9.12"
  },
  "toc": {
   "base_numbering": 1,
   "nav_menu": {},
   "number_sections": true,
   "sideBar": true,
   "skip_h1_title": true,
   "title_cell": "Table of Contents",
   "title_sidebar": "Contents",
   "toc_cell": false,
   "toc_position": {},
   "toc_section_display": true,
   "toc_window_display": false
  },
  "varInspector": {
   "cols": {
    "lenName": 16,
    "lenType": 16,
    "lenVar": 40
   },
   "kernels_config": {
    "python": {
     "delete_cmd_postfix": "",
     "delete_cmd_prefix": "del ",
     "library": "var_list.py",
     "varRefreshCmd": "print(var_dic_list())"
    },
    "r": {
     "delete_cmd_postfix": ") ",
     "delete_cmd_prefix": "rm(",
     "library": "var_list.r",
     "varRefreshCmd": "cat(var_dic_list()) "
    }
   },
   "types_to_exclude": [
    "module",
    "function",
    "builtin_function_or_method",
    "instance",
    "_Feature"
   ],
   "window_display": false
  }
 },
 "nbformat": 4,
 "nbformat_minor": 5
}
