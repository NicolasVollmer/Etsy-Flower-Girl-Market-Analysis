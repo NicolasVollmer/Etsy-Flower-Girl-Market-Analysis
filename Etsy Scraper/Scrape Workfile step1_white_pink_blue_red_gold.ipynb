{
 "cells": [
  {
   "cell_type": "markdown",
   "id": "ca296bab",
   "metadata": {},
   "source": [
    "# Step 1 Scrapebook \n",
    "\n",
    "To get more data, we will scrape listings by color - \n",
    "\n",
    "**Please run all.**\n",
    "\n",
    "You may have to pip install tqdm - a library to implement a progress bar."
   ]
  },
  {
   "cell_type": "code",
   "execution_count": null,
   "id": "3aa9f46c",
   "metadata": {},
   "outputs": [],
   "source": [
    "!pip install tqdm"
   ]
  },
  {
   "cell_type": "markdown",
   "id": "9bd2914e",
   "metadata": {},
   "source": [
    "This notebook scrapes the following Etsy search queries front to back:\n",
    "\n",
    "flower girl dress - white:\n",
    "\"https://www.etsy.com/search/clothing/girls-clothing?q=flower+girl+dress&explicit=1&attr_1=10&ship_to=DE&order=highest_reviews&page={}&ref=pagination\"\n",
    "\n",
    "flower girl dress - pink:\n",
    "\"https://www.etsy.com/search/clothing/girls-clothing?q=flower+girl+dress&explicit=1&attr_1=7&ship_to=DE&order=highest_reviews&page={}&ref=pagination\"\n",
    "\n",
    "flower girl dress - blue:\n",
    "\"https://www.etsy.com/search/clothing/girls-clothing?q=flower+girl+dress&explicit=1&attr_1=2&ship_to=DE&order=highest_reviews&page={}&ref=pagination\"\n",
    "\n",
    "flower girl dress - red: \n",
    "\"https://www.etsy.com/search/clothing/girls-clothing?q=flower+girl+dress&explicit=1&attr_1=9&ship_to=DE&order=highest_reviews&page=2&ref=pagination\"\n",
    "\n",
    "gold:\n",
    "https://www.etsy.com/search/clothing/girls-clothing?q=flower+girl+dress&explicit=1&attr_1=1214&ship_to=DE&order=highest_reviews"
   ]
  },
  {
   "cell_type": "code",
   "execution_count": null,
   "id": "28c06f85",
   "metadata": {},
   "outputs": [],
   "source": [
    "import pandas as pd\n",
    "import csv\n",
    "import requests\n",
    "from bs4 import BeautifulSoup\n",
    "from random import randint\n",
    "from time import sleep\n",
    "import tqdm\n",
    "import re"
   ]
  },
  {
   "cell_type": "code",
   "execution_count": null,
   "id": "e0617e94",
   "metadata": {},
   "outputs": [],
   "source": [
    "def step1(query):\n",
    "    \n",
    "    # empty scraping lists to append to:\n",
    "    global listing_name\n",
    "    listing_name = []\n",
    "    global listing_url\n",
    "    listing_url = []\n",
    "    global listing_image\n",
    "    listing_image = []\n",
    "\n",
    "    # link that will iterate by page to url in loop:\n",
    "    link = query\n",
    "\n",
    "    # key that will iterate listing by listing in nested loop:\n",
    "    key = \"#content > div > div.wt-bg-white.wt-grid__item-md-12.wt-pl-xs-1.wt-pr-xs-0.wt-pr-md-1.wt-pl-lg-0.wt-pr-lg-0.wt-bb-xs-1 > div > div.wt-mt-xs-3.wt-text-black > div.wt-grid.wt-pl-xs-0.wt-pr-xs-0.search-listings-group > div:nth-child(3) > div.wt-bg-white.wt-display-block.wt-pb-xs-2.wt-mt-xs-0 > div:nth-child(1) > div > div > ul > li:nth-child({})\"\n",
    "\n",
    "    # cycle through search results until page 250 and scrape soup:\n",
    "    for i in tqdm.tqdm(range(1,251)): # tqdm code for progress bar\n",
    "        url = link.format(i)\n",
    "        response = requests.get(url)\n",
    "        soup = BeautifulSoup(response.text,\"html.parser\")\n",
    "\n",
    "        # nested loop to scrape listing info:\n",
    "        for o in range(1,9):\n",
    "            x = key.format(o)\n",
    "            # items to scrape:\n",
    "            title = soup.select(x)[0].a[\"title\"]\n",
    "            href = soup.select(x)[0].a[\"href\"]\n",
    "            src = soup.select(x)[0].a.img[\"src\"]\n",
    "            # append results to scraping lists:\n",
    "            listing_name.append(title)\n",
    "            listing_url.append(href)\n",
    "            listing_image.append(src)\n",
    "\n",
    "        # random sleep duration between page cycles:\n",
    "        wait_time = randint(1,4000)\n",
    "        sleep(wait_time/1000)"
   ]
  },
  {
   "cell_type": "code",
   "execution_count": null,
   "id": "2eac076a",
   "metadata": {},
   "outputs": [],
   "source": [
    "# search_queries list\n",
    "white = \"https://www.etsy.com/search/clothing/girls-clothing?q=flower+girl+dress&explicit=1&attr_1=10&ship_to=DE&order=highest_reviews&page={}&ref=pagination\"\n",
    "pink = \"https://www.etsy.com/search/clothing/girls-clothing?q=flower+girl+dress&explicit=1&attr_1=7&ship_to=DE&order=highest_reviews&page={}&ref=pagination\"\n",
    "blue = \"https://www.etsy.com/search/clothing/girls-clothing?q=flower+girl+dress&explicit=1&attr_1=2&ship_to=DE&order=highest_reviews&page={}&ref=pagination\"\n",
    "red = \"https://www.etsy.com/search/clothing/girls-clothing?q=flower+girl+dress&explicit=1&attr_1=9&ship_to=DE&order=highest_reviews&page={}&ref=pagination\"\n",
    "gold = \"https://www.etsy.com/search/clothing/girls-clothing?q=flower+girl+dress&explicit=1&attr_1=1214&ship_to=DE&order=highest_reviews&page={}&ref=pagination\""
   ]
  },
  {
   "cell_type": "code",
   "execution_count": null,
   "id": "4b91bb39",
   "metadata": {},
   "outputs": [],
   "source": [
    "step1(white)"
   ]
  },
  {
   "cell_type": "code",
   "execution_count": null,
   "id": "c6766c6f",
   "metadata": {},
   "outputs": [],
   "source": [
    "data_tuples = list(zip(listing_name,listing_url,listing_image))\n",
    "step1_white = pd.DataFrame(data_tuples, columns=['listing_name','listing_url','listing_image'])"
   ]
  },
  {
   "cell_type": "code",
   "execution_count": null,
   "id": "00347b1c",
   "metadata": {},
   "outputs": [],
   "source": [
    "step1(pink)"
   ]
  },
  {
   "cell_type": "code",
   "execution_count": null,
   "id": "13e3ed9b",
   "metadata": {},
   "outputs": [],
   "source": [
    "data_tuples = list(zip(listing_name,listing_url,listing_image))\n",
    "step1_pink = pd.DataFrame(data_tuples, columns=['listing_name','listing_url','listing_image'])"
   ]
  },
  {
   "cell_type": "code",
   "execution_count": null,
   "id": "bbc98f5d",
   "metadata": {},
   "outputs": [],
   "source": [
    "step1(blue)"
   ]
  },
  {
   "cell_type": "code",
   "execution_count": null,
   "id": "7ec70c3c",
   "metadata": {},
   "outputs": [],
   "source": [
    "data_tuples = list(zip(listing_name,listing_url,listing_image))\n",
    "step1_blue = pd.DataFrame(data_tuples, columns=['listing_name','listing_url','listing_image'])"
   ]
  },
  {
   "cell_type": "code",
   "execution_count": null,
   "id": "c2e4959b",
   "metadata": {},
   "outputs": [],
   "source": [
    "step1(red)"
   ]
  },
  {
   "cell_type": "code",
   "execution_count": null,
   "id": "5177f202",
   "metadata": {},
   "outputs": [],
   "source": [
    "data_tuples = list(zip(listing_name,listing_url,listing_image))\n",
    "step1_red = pd.DataFrame(data_tuples, columns=['listing_name','listing_url','listing_image'])"
   ]
  },
  {
   "cell_type": "code",
   "execution_count": null,
   "id": "9c3337be",
   "metadata": {},
   "outputs": [],
   "source": [
    "step1(gold)"
   ]
  },
  {
   "cell_type": "code",
   "execution_count": null,
   "id": "3c8129e6",
   "metadata": {},
   "outputs": [],
   "source": [
    "data_tuples = list(zip(listing_name,listing_url,listing_image))\n",
    "step1_gold = pd.DataFrame(data_tuples, columns=['listing_name','listing_url','listing_image'])"
   ]
  },
  {
   "cell_type": "code",
   "execution_count": null,
   "id": "3d0797c8",
   "metadata": {},
   "outputs": [],
   "source": [
    "step1_white_pink_blue_red_gold = pd.concat(step1_white,step1_pink,step1_blue,step1_red,step1_gold)"
   ]
  },
  {
   "cell_type": "markdown",
   "id": "781a1094",
   "metadata": {},
   "source": [
    "**The below should yield a df with shape of (10000, 3)**"
   ]
  },
  {
   "cell_type": "code",
   "execution_count": null,
   "id": "16f98e25",
   "metadata": {},
   "outputs": [],
   "source": [
    "step1_white_pink_blue_red_gold.shape"
   ]
  },
  {
   "cell_type": "code",
   "execution_count": null,
   "id": "e4617561",
   "metadata": {},
   "outputs": [],
   "source": [
    "step1_white_pink_blue_red_gold.to_csv('step1_white_pink_blue_red_gold.csv',index=False)"
   ]
  }
 ],
 "metadata": {
  "kernelspec": {
   "display_name": "Python 3 (ipykernel)",
   "language": "python",
   "name": "python3"
  },
  "language_info": {
   "codemirror_mode": {
    "name": "ipython",
    "version": 3
   },
   "file_extension": ".py",
   "mimetype": "text/x-python",
   "name": "python",
   "nbconvert_exporter": "python",
   "pygments_lexer": "ipython3",
   "version": "3.9.12"
  },
  "toc": {
   "base_numbering": 1,
   "nav_menu": {},
   "number_sections": true,
   "sideBar": true,
   "skip_h1_title": true,
   "title_cell": "Table of Contents",
   "title_sidebar": "Contents",
   "toc_cell": false,
   "toc_position": {},
   "toc_section_display": true,
   "toc_window_display": false
  },
  "varInspector": {
   "cols": {
    "lenName": 16,
    "lenType": 16,
    "lenVar": 40
   },
   "kernels_config": {
    "python": {
     "delete_cmd_postfix": "",
     "delete_cmd_prefix": "del ",
     "library": "var_list.py",
     "varRefreshCmd": "print(var_dic_list())"
    },
    "r": {
     "delete_cmd_postfix": ") ",
     "delete_cmd_prefix": "rm(",
     "library": "var_list.r",
     "varRefreshCmd": "cat(var_dic_list()) "
    }
   },
   "types_to_exclude": [
    "module",
    "function",
    "builtin_function_or_method",
    "instance",
    "_Feature"
   ],
   "window_display": false
  }
 },
 "nbformat": 4,
 "nbformat_minor": 5
}
