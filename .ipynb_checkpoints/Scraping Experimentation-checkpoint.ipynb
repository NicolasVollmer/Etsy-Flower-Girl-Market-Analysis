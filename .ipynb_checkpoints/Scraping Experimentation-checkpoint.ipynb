{
 "cells": [
  {
   "cell_type": "markdown",
   "id": "f6f6deb3",
   "metadata": {},
   "source": [
    "# WARNING: below file is messy\n",
    "\n",
    "Below is my scraping experimentation in no particular order. For the end result, better refer to my Etsy Scrape codes Notebook."
   ]
  },
  {
   "cell_type": "code",
   "execution_count": 3,
   "id": "1f63c900",
   "metadata": {
    "scrolled": true
   },
   "outputs": [],
   "source": [
    "import pandas as pd\n",
    "import csv\n",
    "import requests\n",
    "from bs4 import BeautifulSoup\n",
    "from random import randint\n",
    "from time import sleep\n",
    "from tqdm import tqdm\n",
    "import re\n",
    "\n",
    "import tqdm"
   ]
  },
  {
   "cell_type": "code",
   "execution_count": 142,
   "id": "78be1e36",
   "metadata": {
    "scrolled": false
   },
   "outputs": [
    {
     "name": "stderr",
     "output_type": "stream",
     "text": [
      "100%|███████████████████████████████████████████| 16/16 [01:27<00:00,  5.47s/it]\n"
     ]
    }
   ],
   "source": [
    "step2(test_df)"
   ]
  },
  {
   "cell_type": "code",
   "execution_count": 144,
   "id": "36731e89",
   "metadata": {},
   "outputs": [],
   "source": [
    "col_dict = {\"shop_name\":shop_name,\n",
    "            \"start_price\":start_price,\n",
    "            \"size_options\":size_options,\n",
    "            \"ship_cost_germany\":ship_cost_germany,\n",
    "            \"allows_returns\":allows_returns,\n",
    "            \"shop_location\":shop_location,\n",
    "            \"shop_rating\":shop_rating,\n",
    "            \"shop_review_counts\":shop_review_counts,\n",
    "            \"item_review_counts\":item_review_counts,\n",
    "            \"customer_item_reviews\":customer_item_reviews}\n",
    "\n",
    "for col,val in col_dict.items():\n",
    "    test_df[col] = val"
   ]
  },
  {
   "cell_type": "code",
   "execution_count": null,
   "id": "4817c6f5",
   "metadata": {},
   "outputs": [],
   "source": [
    "url = \"https://www.etsy.com/shop/PetiteLuluStudio?search_query=flower+girl\""
   ]
  },
  {
   "cell_type": "code",
   "execution_count": null,
   "id": "d455650e",
   "metadata": {},
   "outputs": [],
   "source": [
    "response = requests.get(url)\n",
    "response.status_code"
   ]
  },
  {
   "cell_type": "code",
   "execution_count": null,
   "id": "2f264623",
   "metadata": {},
   "outputs": [],
   "source": [
    "soup = BeautifulSoup(response.text,\"html.parser\")"
   ]
  },
  {
   "cell_type": "code",
   "execution_count": null,
   "id": "14db2897",
   "metadata": {},
   "outputs": [],
   "source": [
    "i = \"#content > div.shop-home > div.wt-body-max-width.wt-pr-xs-2.wt-pr-md-4.wt-pl-xs-2.wt-pl-md-4 > div:nth-child(2) > span > div.display-flex-lg > div.pr-xs-0.pl-xs-0.shop-home-wider-items.pb-xs-5 > div.wt-animated > div:nth-child(4) > div > div > div:nth-child(4) > a\""
   ]
  },
  {
   "cell_type": "code",
   "execution_count": null,
   "id": "099be780",
   "metadata": {},
   "outputs": [],
   "source": [
    "i = \"#content > div.shop-home > div.wt-body-max-width.wt-pr-xs-2.wt-pr-md-4.wt-pl-xs-2.wt-pl-md-4 > div:nth-child(2) > span > div.display-flex-lg > div.pr-xs-0.pl-xs-0.shop-home-wider-items.pb-xs-5 > div.wt-animated.wt-animated--appear-02 > div:nth-child(4) > div > div:nth-child(1)\"\n"
   ]
  },
  {
   "cell_type": "code",
   "execution_count": null,
   "id": "a660ac04",
   "metadata": {},
   "outputs": [],
   "source": [
    "i = \"#content > div.shop-home > div.wt-body-max-width.wt-pr-xs-2.wt-pr-md-4.wt-pl-xs-2.wt-pl-md-4\""
   ]
  },
  {
   "cell_type": "code",
   "execution_count": null,
   "id": "b675487a",
   "metadata": {
    "scrolled": true
   },
   "outputs": [],
   "source": [
    "o = \"#content > div.shop-home > div.wt-body-max-width.wt-pr-xs-2.wt-pr-md-4.wt-pl-xs-2.wt-pl-md-4 > div:nth-child(4)\"\n",
    "soup.select(o)[0]"
   ]
  },
  {
   "cell_type": "code",
   "execution_count": null,
   "id": "4c426aca",
   "metadata": {},
   "outputs": [],
   "source": []
  },
  {
   "cell_type": "code",
   "execution_count": null,
   "id": "a9baaf4e",
   "metadata": {},
   "outputs": [],
   "source": []
  },
  {
   "cell_type": "code",
   "execution_count": null,
   "id": "d9f3404d",
   "metadata": {},
   "outputs": [],
   "source": []
  },
  {
   "cell_type": "code",
   "execution_count": null,
   "id": "fd7fba80",
   "metadata": {},
   "outputs": [],
   "source": []
  },
  {
   "cell_type": "code",
   "execution_count": null,
   "id": "93e659a9",
   "metadata": {},
   "outputs": [],
   "source": []
  },
  {
   "cell_type": "code",
   "execution_count": 117,
   "id": "d975608f",
   "metadata": {},
   "outputs": [],
   "source": [
    "url = \"https://www.etsy.com/listing/1042863029/dress-for-flower-girl-junior-bridesmaid\""
   ]
  },
  {
   "cell_type": "code",
   "execution_count": 67,
   "id": "419f54b9",
   "metadata": {},
   "outputs": [],
   "source": [
    "url =\"https://www.etsy.com/listing/685632153/vintage-1950s-girls-dress-with-broderie\""
   ]
  },
  {
   "cell_type": "code",
   "execution_count": 66,
   "id": "46425f60",
   "metadata": {},
   "outputs": [],
   "source": [
    "url = \"https://www.etsy.com/listing/673935086/flower-girl-dress-lace-flower-girl-dress?ga_order=highest_reviews&ga_search_type=all&ga_view_type=gallery&ga_search_query=flower+girl+dress&ref=sc_gallery-1-1&plkey=0758931dbea2b8229fb124d295eb2acf805da2ba%3A673935086\""
   ]
  },
  {
   "cell_type": "code",
   "execution_count": 38,
   "id": "a929def3",
   "metadata": {},
   "outputs": [],
   "source": [
    "url = \"https://www.etsy.com/listing/476167468/clearance-ready-to-ship-navy-satin\""
   ]
  },
  {
   "cell_type": "code",
   "execution_count": 89,
   "id": "a0030e6d",
   "metadata": {},
   "outputs": [],
   "source": [
    "url = \"https://www.etsy.com/listing/730334209/light-blue-and-blush-lace-tulle-formal\""
   ]
  },
  {
   "cell_type": "code",
   "execution_count": 71,
   "id": "c0d6bdf1",
   "metadata": {},
   "outputs": [],
   "source": [
    "url = \"https://www.etsy.com/listing/591683833/black-and-white-flower-girl-dress-first\""
   ]
  },
  {
   "cell_type": "code",
   "execution_count": 1,
   "id": "6ee47ab9",
   "metadata": {},
   "outputs": [],
   "source": [
    "url = \"https://www.etsy.com/listing/693214513/flower-girl-dress-wedding-pink-blush?ga_order=highest_reviews&ga_search_type=all&ga_view_type=gallery&ga_search_query=flower+girl+dress&ref=sr_gallery-1-11&frs=1&edd=1&organic_search_click=1\""
   ]
  },
  {
   "cell_type": "code",
   "execution_count": 82,
   "id": "98e74078",
   "metadata": {
    "scrolled": true
   },
   "outputs": [],
   "source": [
    "url = url.replace(\"https://www.etsy.com/listing/\",\"https://www.etsy.com/de/listing/\")"
   ]
  },
  {
   "cell_type": "code",
   "execution_count": 4,
   "id": "0cb3c3c5",
   "metadata": {
    "scrolled": true
   },
   "outputs": [
    {
     "data": {
      "text/plain": [
       "200"
      ]
     },
     "execution_count": 4,
     "metadata": {},
     "output_type": "execute_result"
    }
   ],
   "source": [
    "response = requests.get(url)\n",
    "response.status_code"
   ]
  },
  {
   "cell_type": "code",
   "execution_count": 5,
   "id": "b7a0b83c",
   "metadata": {},
   "outputs": [],
   "source": [
    "soup = BeautifulSoup(response.text,\"html.parser\")"
   ]
  },
  {
   "cell_type": "markdown",
   "id": "6af8c57b",
   "metadata": {},
   "source": [
    "extracting total shop sales"
   ]
  },
  {
   "cell_type": "code",
   "execution_count": 120,
   "id": "ff2613e4",
   "metadata": {},
   "outputs": [
    {
     "data": {
      "text/plain": [
       "6906"
      ]
     },
     "execution_count": 120,
     "metadata": {},
     "output_type": "execute_result"
    }
   ],
   "source": [
    "pattern = '[\\d]{1},[\\d]{3} sales|[\\d]{2},[\\d]{3} sales|[\\d]{3} sales|[\\d]{2} sales|[\\d]{1} sales'\n",
    "tot_sales = re.findall(pattern, soup.select(i)[0].text)[0]\n",
    "tot_sales = int(tot_sales[:-6].replace(\",\",\"\"))\n",
    "tot_sales"
   ]
  },
  {
   "cell_type": "code",
   "execution_count": 52,
   "id": "dec9491b",
   "metadata": {},
   "outputs": [],
   "source": [
    "i = \"#listing-page-cart\""
   ]
  },
  {
   "cell_type": "code",
   "execution_count": 106,
   "id": "dde81513",
   "metadata": {},
   "outputs": [
    {
     "data": {
      "text/plain": [
       "['431 sales']"
      ]
     },
     "execution_count": 106,
     "metadata": {},
     "output_type": "execute_result"
    }
   ],
   "source": [
    "re.findall(pattern, soup.select(i)[0].text)"
   ]
  },
  {
   "cell_type": "code",
   "execution_count": 92,
   "id": "30548b9c",
   "metadata": {},
   "outputs": [
    {
     "data": {
      "text/plain": [
       "'\\n\\n\\n\\n\\n\\n\\n                            KingdomBoutiqueUA\\n                        \\n\\n\\n\\n\\n\\n\\n\\nFollowing\\nFollow\\n\\n\\n\\n\\n\\n\\n\\n\\n\\n\\n\\n\\n\\n                Star Seller\\n            \\n\\n\\n\\n                    Star Seller\\n                \\n\\n                    Star Sellers have an outstanding track record for providing a great customer experience—they consistently earned 5-star reviews, shipped orders on time, and replied quickly to any messages they received.\\n                \\n\\n\\n\\n\\n|\\n\\n    5,769'"
      ]
     },
     "execution_count": 92,
     "metadata": {},
     "output_type": "execute_result"
    }
   ],
   "source": [
    "soup.select(i)[0].text.split(\" sales\")[0]"
   ]
  },
  {
   "cell_type": "code",
   "execution_count": 87,
   "id": "11878312",
   "metadata": {
    "scrolled": true
   },
   "outputs": [
    {
     "ename": "ValueError",
     "evalue": "invalid literal for int() with base 10: '                        PetiteLuluStudio\\n                        \\n\\n\\n\\n\\n\\n\\n\\nFollowing\\nFollow\\n\\n\\n\\n\\n'",
     "output_type": "error",
     "traceback": [
      "\u001b[0;31m---------------------------------------------------------------------------\u001b[0m",
      "\u001b[0;31mValueError\u001b[0m                                Traceback (most recent call last)",
      "Input \u001b[0;32mIn [87]\u001b[0m, in \u001b[0;36m<cell line: 1>\u001b[0;34m()\u001b[0m\n\u001b[0;32m----> 1\u001b[0m \u001b[38;5;28;43mint\u001b[39;49m\u001b[43m(\u001b[49m\u001b[43msoup\u001b[49m\u001b[38;5;241;43m.\u001b[39;49m\u001b[43mselect\u001b[49m\u001b[43m(\u001b[49m\u001b[43mi\u001b[49m\u001b[43m)\u001b[49m\u001b[43m[\u001b[49m\u001b[38;5;241;43m0\u001b[39;49m\u001b[43m]\u001b[49m\u001b[38;5;241;43m.\u001b[39;49m\u001b[43mtext\u001b[49m\u001b[38;5;241;43m.\u001b[39;49m\u001b[43msplit\u001b[49m\u001b[43m(\u001b[49m\u001b[38;5;124;43m\"\u001b[39;49m\u001b[38;5;124;43m sales\u001b[39;49m\u001b[38;5;124;43m\"\u001b[39;49m\u001b[43m)\u001b[49m\u001b[43m[\u001b[49m\u001b[38;5;241;43m0\u001b[39;49m\u001b[43m]\u001b[49m\u001b[38;5;241;43m.\u001b[39;49m\u001b[43msplit\u001b[49m\u001b[43m(\u001b[49m\u001b[38;5;124;43m\"\u001b[39;49m\u001b[38;5;130;43;01m\\n\u001b[39;49;00m\u001b[38;5;130;43;01m\\n\u001b[39;49;00m\u001b[38;5;124;43m    \u001b[39;49m\u001b[38;5;124;43m\"\u001b[39;49m\u001b[43m)\u001b[49m\u001b[43m[\u001b[49m\u001b[38;5;241;43m1\u001b[39;49m\u001b[43m]\u001b[49m\u001b[38;5;241;43m.\u001b[39;49m\u001b[43mreplace\u001b[49m\u001b[43m(\u001b[49m\u001b[38;5;124;43m\"\u001b[39;49m\u001b[38;5;124;43m,\u001b[39;49m\u001b[38;5;124;43m\"\u001b[39;49m\u001b[43m,\u001b[49m\u001b[38;5;124;43m\"\u001b[39;49m\u001b[38;5;124;43m\"\u001b[39;49m\u001b[43m)\u001b[49m\u001b[43m)\u001b[49m\n",
      "\u001b[0;31mValueError\u001b[0m: invalid literal for int() with base 10: '                        PetiteLuluStudio\\n                        \\n\\n\\n\\n\\n\\n\\n\\nFollowing\\nFollow\\n\\n\\n\\n\\n'"
     ]
    }
   ],
   "source": [
    "int(soup.select(i)[0].text.split(\" sales\")[0].split(\"|\\n\\n    \")[1].replace(\",\",\"\"))"
   ]
  },
  {
   "cell_type": "code",
   "execution_count": null,
   "id": "3b597cf2",
   "metadata": {},
   "outputs": [],
   "source": []
  },
  {
   "cell_type": "code",
   "execution_count": null,
   "id": "ae2c2629",
   "metadata": {},
   "outputs": [],
   "source": []
  },
  {
   "cell_type": "markdown",
   "id": "8e1a31db",
   "metadata": {},
   "source": [
    "extracting user comments (one page)"
   ]
  },
  {
   "cell_type": "code",
   "execution_count": null,
   "id": "834f47ab",
   "metadata": {},
   "outputs": [],
   "source": [
    "i = \"#same-listing-reviews-panel\""
   ]
  },
  {
   "cell_type": "code",
   "execution_count": null,
   "id": "92557968",
   "metadata": {},
   "outputs": [],
   "source": [
    "i = \"#review-preview-toggle-{}\""
   ]
  },
  {
   "cell_type": "code",
   "execution_count": null,
   "id": "26ce9d70",
   "metadata": {},
   "outputs": [],
   "source": [
    "i2 = \"#review-preview-toggle-2\""
   ]
  },
  {
   "cell_type": "code",
   "execution_count": null,
   "id": "337e00da",
   "metadata": {},
   "outputs": [],
   "source": [
    "u = \"#same-listing-reviews-tab\""
   ]
  },
  {
   "cell_type": "code",
   "execution_count": null,
   "id": "3d20247e",
   "metadata": {},
   "outputs": [],
   "source": [
    "soup.select(\"#listing-right-column > div > div.body-wrap.wt-body-max-width.wt-display-flex-md.wt-flex-direction-column-xs > div.listing-info.review-col.wt-order-xs-6 > div > div > div:nth-child(2)\")[0].text.find(\"Reviews for this item\")"
   ]
  },
  {
   "cell_type": "code",
   "execution_count": null,
   "id": "e62a8be7",
   "metadata": {},
   "outputs": [],
   "source": [
    "a.find(\"Reviews for this item\")"
   ]
  },
  {
   "cell_type": "code",
   "execution_count": null,
   "id": "83568a59",
   "metadata": {},
   "outputs": [],
   "source": []
  },
  {
   "cell_type": "code",
   "execution_count": null,
   "id": "ffb6fbaa",
   "metadata": {},
   "outputs": [],
   "source": [
    "item_reviews = []\n",
    "\n",
    "if soup.select(\"#listing-right-column > div > div.body-wrap.wt-body-max-width.wt-display-flex-md.wt-flex-direction-column-xs > div.listing-info.review-col.wt-order-xs-6 > div > div > div:nth-child(2)\")[0].text.find(\"Reviews for this item\") != -1:\n",
    "    rev_key = \"#review-preview-toggle-{}\"\n",
    "    rev_repo = []\n",
    "    for iterate in range(0,4):\n",
    "        key = rev_key.format(iterate)\n",
    "        try:\n",
    "            rev = soup.select(key)[0].text.split(\"\\n                    \")[1]\n",
    "            rev = rev.split(\" \\n\\n    \")[0]\n",
    "            rev_repo.append(rev)\n",
    "        except IndexError:\n",
    "            rev_repo.append(\"N.A.\") \n",
    "    item_reviews.append(rev_repo)\n",
    "    \n",
    "else:\n",
    "    item_reviews.append(\"N.A.\")"
   ]
  },
  {
   "cell_type": "code",
   "execution_count": null,
   "id": "dcc661db",
   "metadata": {},
   "outputs": [],
   "source": [
    "item_reviews"
   ]
  },
  {
   "cell_type": "code",
   "execution_count": null,
   "id": "cc9bbcb8",
   "metadata": {},
   "outputs": [],
   "source": [
    "rev_repo\n"
   ]
  },
  {
   "cell_type": "code",
   "execution_count": null,
   "id": "14721781",
   "metadata": {},
   "outputs": [],
   "source": [
    "\"                    \""
   ]
  },
  {
   "cell_type": "code",
   "execution_count": null,
   "id": "8f5e0fd6",
   "metadata": {},
   "outputs": [],
   "source": [
    "soup.select(i2)[0].text.split(\" \\n\\n    \")[0]"
   ]
  },
  {
   "cell_type": "code",
   "execution_count": null,
   "id": "e17265d3",
   "metadata": {
    "scrolled": true
   },
   "outputs": [],
   "source": [
    "re.split('                    | \\n\\n    \\n\\n\\n\\n\\n\\n\\n\\n',soup.select(i)[0].text)"
   ]
  },
  {
   "cell_type": "code",
   "execution_count": null,
   "id": "6504c361",
   "metadata": {},
   "outputs": [],
   "source": []
  },
  {
   "cell_type": "markdown",
   "id": "8a3a21dd",
   "metadata": {},
   "source": [
    "extracting number of shop reviews"
   ]
  },
  {
   "cell_type": "code",
   "execution_count": 57,
   "id": "604a97a0",
   "metadata": {},
   "outputs": [
    {
     "ename": "NameError",
     "evalue": "name 'item_review_counts' is not defined",
     "output_type": "error",
     "traceback": [
      "\u001b[0;31m---------------------------------------------------------------------------\u001b[0m",
      "\u001b[0;31mIndexError\u001b[0m                                Traceback (most recent call last)",
      "Input \u001b[0;32mIn [57]\u001b[0m, in \u001b[0;36m<cell line: 1>\u001b[0;34m()\u001b[0m\n\u001b[1;32m      1\u001b[0m \u001b[38;5;28;01mtry\u001b[39;00m:\n\u001b[0;32m----> 2\u001b[0m     item_rev \u001b[38;5;241m=\u001b[39m \u001b[43msoup\u001b[49m\u001b[38;5;241;43m.\u001b[39;49m\u001b[43mselect\u001b[49m\u001b[43m(\u001b[49m\u001b[38;5;124;43m\"\u001b[39;49m\u001b[38;5;124;43m#listing-right-column > div > div.body-wrap.wt-body-max-width.wt-display-flex-md.wt-flex-direction-column-xs > div.listing-info.review-col.wt-order-xs-6 > div > div > div:nth-child(2)\u001b[39;49m\u001b[38;5;124;43m\"\u001b[39;49m\u001b[43m)\u001b[49m\u001b[43m[\u001b[49m\u001b[38;5;241;43m0\u001b[39;49m\u001b[43m]\u001b[49m\u001b[38;5;241;43m.\u001b[39;49m\u001b[43mtext\u001b[49m\u001b[38;5;241;43m.\u001b[39;49m\u001b[43msplit\u001b[49m\u001b[43m(\u001b[49m\u001b[38;5;124;43m\"\u001b[39;49m\u001b[38;5;124;43mReviews for this item\u001b[39;49m\u001b[38;5;130;43;01m\\n\u001b[39;49;00m\u001b[38;5;124;43m                \u001b[39;49m\u001b[38;5;130;43;01m\\n\u001b[39;49;00m\u001b[38;5;124;43m                    \u001b[39;49m\u001b[38;5;124;43m\"\u001b[39;49m\u001b[43m)\u001b[49m\u001b[43m[\u001b[49m\u001b[38;5;241;43m1\u001b[39;49m\u001b[43m]\u001b[49m\n\u001b[1;32m      3\u001b[0m     item_rev \u001b[38;5;241m=\u001b[39m \u001b[38;5;28mint\u001b[39m(item_rev\u001b[38;5;241m.\u001b[39msplit(\u001b[38;5;124m\"\u001b[39m\u001b[38;5;130;01m\\n\u001b[39;00m\u001b[38;5;124m\"\u001b[39m)[\u001b[38;5;241m0\u001b[39m]\u001b[38;5;241m.\u001b[39mreplace(\u001b[38;5;124m\"\u001b[39m\u001b[38;5;124m,\u001b[39m\u001b[38;5;124m\"\u001b[39m,\u001b[38;5;124m\"\u001b[39m\u001b[38;5;124m\"\u001b[39m))\n",
      "\u001b[0;31mIndexError\u001b[0m: list index out of range",
      "\nDuring handling of the above exception, another exception occurred:\n",
      "\u001b[0;31mNameError\u001b[0m                                 Traceback (most recent call last)",
      "Input \u001b[0;32mIn [57]\u001b[0m, in \u001b[0;36m<cell line: 1>\u001b[0;34m()\u001b[0m\n\u001b[1;32m      4\u001b[0m     item_review_counts\u001b[38;5;241m.\u001b[39mappend(item_rev)\n\u001b[1;32m      5\u001b[0m \u001b[38;5;28;01mexcept\u001b[39;00m \u001b[38;5;167;01mIndexError\u001b[39;00m:\n\u001b[0;32m----> 6\u001b[0m     \u001b[43mitem_review_counts\u001b[49m\u001b[38;5;241m.\u001b[39mappend(\u001b[38;5;241m0\u001b[39m)\n",
      "\u001b[0;31mNameError\u001b[0m: name 'item_review_counts' is not defined"
     ]
    }
   ],
   "source": [
    "    item_rev = soup.select(\"#listing-right-column > div > div.body-wrap.wt-body-max-width.wt-display-flex-md.wt-flex-direction-column-xs > div.listing-info.review-col.wt-order-xs-6 > div > div > div:nth-child(2)\")[0].text.split(\"Reviews for this item\\n                \\n                    \")[1]\n",
    "    item_rev = int(item_rev.split(\"\\n\")[0].replace(\",\",\"\"))\n",
    "    item_review_counts.append(item_rev)\n"
   ]
  },
  {
   "cell_type": "code",
   "execution_count": null,
   "id": "a81d1dee",
   "metadata": {},
   "outputs": [],
   "source": [
    "i = \"#listing-right-column > div > div.body-wrap.wt-body-max-width.wt-display-flex-md.wt-flex-direction-column-xs > div.listing-info.review-col.wt-order-xs-6 > div > div > div:nth-child(2)\""
   ]
  },
  {
   "cell_type": "code",
   "execution_count": null,
   "id": "d3f79570",
   "metadata": {},
   "outputs": [],
   "source": [
    "i = \"#listing-right-column > div > div.body-wrap.wt-body-max-width.wt-display-flex-md.wt-flex-direction-column-xs > div.listing-info.review-col.wt-order-xs-6 > div\""
   ]
  },
  {
   "cell_type": "code",
   "execution_count": null,
   "id": "7a62ecb4",
   "metadata": {},
   "outputs": [],
   "source": [
    "i = \"#reviews > div.wt-flex-xl-5.wt-flex-wrap\""
   ]
  },
  {
   "cell_type": "code",
   "execution_count": null,
   "id": "7e569b61",
   "metadata": {},
   "outputs": [],
   "source": [
    "#reviews > div.wt-flex-xl-5.wt-flex-wrap"
   ]
  },
  {
   "cell_type": "code",
   "execution_count": null,
   "id": "5d83f1c5",
   "metadata": {
    "scrolled": false
   },
   "outputs": [],
   "source": [
    "soup.select(i)[0].get_text().find(\"reviews\")"
   ]
  },
  {
   "cell_type": "code",
   "execution_count": null,
   "id": "460143ac",
   "metadata": {},
   "outputs": [],
   "source": [
    "soup.select(\"#listing-right-column > div > div.body-wrap.wt-body-max-width.wt-display-flex-md.wt-flex-direction-column-xs > div.listing-info.review-col.wt-order-xs-6 > div > div > div:nth-child(2)\")[0].get_text()[19:].split(\" \")[0].replace(\",\",\".\")"
   ]
  },
  {
   "cell_type": "markdown",
   "id": "7100d67b",
   "metadata": {},
   "source": [
    "extracting item review number"
   ]
  },
  {
   "cell_type": "code",
   "execution_count": null,
   "id": "bfced06f",
   "metadata": {
    "scrolled": true
   },
   "outputs": [],
   "source": [
    "soup.select(i)[0].get_text().find(\"Reviews for this item\")"
   ]
  },
  {
   "cell_type": "code",
   "execution_count": null,
   "id": "6cee5b37",
   "metadata": {},
   "outputs": [],
   "source": [
    "test=soup.select(\"#listing-right-column > div > div.body-wrap.wt-body-max-width.wt-display-flex-md.wt-flex-direction-column-xs > div.listing-info.review-col.wt-order-xs-6 > div > div > div:nth-child(2)\")[0].text.split(\"Reviews for this item\\n                \\n                    \")[1]\n",
    "test=test.split(\"\\n\")[0].replace(\",\",\".\")\n",
    "test"
   ]
  },
  {
   "cell_type": "markdown",
   "id": "56d95bb8",
   "metadata": {},
   "source": [
    "#### fail test"
   ]
  },
  {
   "cell_type": "code",
   "execution_count": 2,
   "id": "b0108eef",
   "metadata": {},
   "outputs": [],
   "source": [
    "url1 = \"https://www.etsy.com/listing/724946243/white-flower-girl-dressboho-flower-girl?ga_order=highest_reviews&ga_search_type=all&ga_view_type=gallery&ga_search_query=flower+girl+dress&ref=sr_gallery-31-1&pro=1&organic_search_click=1\"\n",
    "url2 = \"https://www.etsy.com/listing/741518864/flower-girl-dress-with-burgundy?ga_order=highest_reviews&ga_search_type=all&ga_view_type=gallery&ga_search_query=flower+girl+dress&ref=sr_gallery-31-2&organic_search_click=1\"\n",
    "url3 = \"https://www.etsy.com/listing/474564191/flower-girl-dressflower-girl-lace-dress?ga_order=highest_reviews&ga_search_type=all&ga_view_type=gallery&ga_search_query=flower+girl+dress&ref=sr_gallery-31-3&organic_search_click=1\""
   ]
  },
  {
   "cell_type": "code",
   "execution_count": 3,
   "id": "3f0f1178",
   "metadata": {},
   "outputs": [
    {
     "data": {
      "text/plain": [
       "200"
      ]
     },
     "execution_count": 3,
     "metadata": {},
     "output_type": "execute_result"
    }
   ],
   "source": [
    "response1 = requests.get(url1)\n",
    "response1.status_code"
   ]
  },
  {
   "cell_type": "code",
   "execution_count": 4,
   "id": "739bf180",
   "metadata": {},
   "outputs": [],
   "source": [
    "soup1 = BeautifulSoup(response1.text,\"html.parser\")"
   ]
  },
  {
   "cell_type": "code",
   "execution_count": 5,
   "id": "c86871ce",
   "metadata": {},
   "outputs": [
    {
     "data": {
      "text/plain": [
       "200"
      ]
     },
     "execution_count": 5,
     "metadata": {},
     "output_type": "execute_result"
    }
   ],
   "source": [
    "response2 = requests.get(url2)\n",
    "response2.status_code"
   ]
  },
  {
   "cell_type": "code",
   "execution_count": 6,
   "id": "83e5021e",
   "metadata": {},
   "outputs": [],
   "source": [
    "soup2 = BeautifulSoup(response2.text,\"html.parser\")"
   ]
  },
  {
   "cell_type": "code",
   "execution_count": 7,
   "id": "18d61ad3",
   "metadata": {},
   "outputs": [
    {
     "data": {
      "text/plain": [
       "200"
      ]
     },
     "execution_count": 7,
     "metadata": {},
     "output_type": "execute_result"
    }
   ],
   "source": [
    "response3 = requests.get(url3)\n",
    "response3.status_code"
   ]
  },
  {
   "cell_type": "code",
   "execution_count": 8,
   "id": "7afb8e34",
   "metadata": {},
   "outputs": [],
   "source": [
    "soup3 = BeautifulSoup(response3.text,\"html.parser\")"
   ]
  },
  {
   "cell_type": "code",
   "execution_count": 17,
   "id": "821b6b15",
   "metadata": {},
   "outputs": [
    {
     "data": {
      "text/plain": [
       "[983]"
      ]
     },
     "execution_count": 17,
     "metadata": {},
     "output_type": "execute_result"
    }
   ],
   "source": [
    "# shop_name\n",
    "# start_price\n",
    "# size_options\n",
    "# ship_cost_germany\n",
    "# allows_returns\n",
    "# shop_location\n",
    "# shop_5_star_rating_percentage\n",
    "# shop_4_star_rating_percentage\n",
    "# shop_3_star_rating_percentage\n",
    "# shop_2_star_rating_percentage\n",
    "# shop_1_star_rating_percentage\n",
    "shop_reviews_count\n",
    "# item_reviews_count\n",
    "# listing_customer_reviews\n"
   ]
  },
  {
   "cell_type": "code",
   "execution_count": 16,
   "id": "318458b2",
   "metadata": {},
   "outputs": [],
   "source": [
    "global shop_name\n",
    "shop_name = []\n",
    "global start_price\n",
    "start_price = []\n",
    "global size_options\n",
    "size_options = []\n",
    "global ship_cost_germany\n",
    "ship_cost_germany = []\n",
    "global allows_returns\n",
    "allows_returns = []\n",
    "global shop_location\n",
    "shop_location = []\n",
    "global shop_5_star_rating_percentage\n",
    "shop_5_star_rating_percentage = []\n",
    "global shop_4_star_rating_percentage\n",
    "shop_4_star_rating_percentage = []\n",
    "global shop_3_star_rating_percentage\n",
    "shop_3_star_rating_percentage = []\n",
    "global shop_2_star_rating_percentage\n",
    "shop_2_star_rating_percentage = []\n",
    "global shop_1_star_rating_percentage\n",
    "shop_1_star_rating_percentage = []\n",
    "global shop_reviews_count\n",
    "shop_reviews_count = []\n",
    "global item_reviews_count\n",
    "item_reviews_count = []\n",
    "global listing_customer_reviews\n",
    "listing_customer_reviews = []\n",
    "    \n",
    "name = soup3.select(\"#listing-page-cart > div:nth-child(1) > div > div.wt-display-flex-xs.wt-align-items-center.wt-mb-xs-1 > p\")[0].get_text()\n",
    "name = name[31:]\n",
    "name = name[:-27]\n",
    "shop_name.append(name)\n",
    "\n",
    "\n",
    "# extract size options count for this item\n",
    "try:\n",
    "    sizes = len(soup3.select(\"#listing-page-cart > div.wt-mb-xs-6.wt-mb-lg-0 > div:nth-child(1) > div.wt-mb-xs-3 > div:nth-child(4) > div\")[0].select(\"option\")[1:])\n",
    "except IndexError:\n",
    "    sizes = len(soup3.select(\"#listing-page-cart > div.wt-mb-xs-6.wt-mb-lg-0 > div:nth-child(1) > div.wt-mb-xs-3\")[0].select(\"option\")[1:])\n",
    "size_options.append(sizes)\n",
    "\n",
    "\n",
    "# extract shop location\n",
    "location = soup3.select(\"#shipping-variant-div > div > div.wt-grid.wt-mb-xs-3 > div.wt-grid__item-xs-12.wt-text-black.wt-text-caption\")[0].get_text()\n",
    "location = location[16:]\n",
    "location = location[:-1]\n",
    "shop_location.append(location)\n",
    "\n",
    "\n",
    "# extract returns allowed yes/no\n",
    "ret = soup3.select(\"#shipping-variant-div > div > div.wt-grid.wt-mb-xs-3\")[0].get_text()\n",
    "if ret.find(\"Accepted\") != -1:\n",
    "    ret = 1\n",
    "else:\n",
    "    ret = 0\n",
    "allows_returns.append(ret)\n",
    "\n",
    "\n",
    "# extract review count for the shop \n",
    "try:\n",
    "    shop_rev = int(soup3.select(\"#listing-right-column > div > div.body-wrap.wt-body-max-width.wt-display-flex-md.wt-flex-direction-column-xs > div.listing-info.review-col.wt-order-xs-6 > div > div > div:nth-child(2)\")[0].get_text()[19:].split(\" \")[0].replace(\",\",\"\"))\n",
    "    shop_reviews_count.append(shop_rev)\n",
    "except IndexError:\n",
    "    shop_rev = 0\n",
    "    shop_reviews_count.append(shop_rev)\n",
    "\n",
    "#extract 5/5 star rating for this shop (only way to do this is in percentage counts per star rating level)\n",
    "try:\n",
    "    five = soup3.select(\"#listing-right-column > div > div.body-wrap.wt-body-max-width.wt-display-flex-md.wt-flex-direction-column-xs > div.listing-info.review-col.wt-order-xs-6 > div > div > div:nth-child(2)\")[0].text.split(\"5 out of 5 stars\\n\\n\\n\\n\\n\\n\\n\\n\\n\\n\\n\\n\\n\\n\\n5 stars\\n\\n\\n\\n\\n\\n\\n\")[1]\n",
    "    five = float(five.split(\"%\\n\\n\\n\\n\\n4 stars\")[0])\n",
    "    five = five/100\n",
    "    shop_5_star_rating_percentage.append(five)\n",
    "    four = soup3.select(\"#listing-right-column > div > div.body-wrap.wt-body-max-width.wt-display-flex-md.wt-flex-direction-column-xs > div.listing-info.review-col.wt-order-xs-6 > div > div > div:nth-child(2)\")[0].text.split(\"4 stars\\n\\n\\n\\n\\n\\n\\n\")[1]\n",
    "    four = float(four.split(\"%\\n\\n\\n\\n\\n3 stars\")[0])\n",
    "    four = four/100\n",
    "    shop_4_star_rating_percentage.append(four)\n",
    "    three = soup3.select(\"#listing-right-column > div > div.body-wrap.wt-body-max-width.wt-display-flex-md.wt-flex-direction-column-xs > div.listing-info.review-col.wt-order-xs-6 > div > div > div:nth-child(2)\")[0].text.split(\"3 stars\\n\\n\\n\\n\\n\\n\\n\")[1]\n",
    "    three = float(three.split(\"%\\n\\n\\n\\n\\n\")[0])\n",
    "    three = three/100\n",
    "    shop_3_star_rating_percentage.append(three)\n",
    "    two = soup3.select(\"#listing-right-column > div > div.body-wrap.wt-body-max-width.wt-display-flex-md.wt-flex-direction-column-xs > div.listing-info.review-col.wt-order-xs-6 > div > div > div:nth-child(2)\")[0].text.split(\"2 stars\\n\\n\\n\\n\\n\\n\\n\")[1]\n",
    "    two = float(two.split(\"%\\n\\n\\n\\n\\n\")[0])\n",
    "    two = two/100\n",
    "    shop_2_star_rating_percentage.append(two)\n",
    "    one = soup3.select(\"#listing-right-column > div > div.body-wrap.wt-body-max-width.wt-display-flex-md.wt-flex-direction-column-xs > div.listing-info.review-col.wt-order-xs-6 > div > div > div:nth-child(2)\")[0].text.split(\"1 star\\n\\n\\n\\n\\n\\n\\n\")[1]\n",
    "    one = float(one.split(\"%\\n\\n\\n\\n\\n\")[0])\n",
    "    one = one/100\n",
    "    shop_1_star_rating_percentage.append(one)\n",
    "except IndexError:\n",
    "    shop_5_star_rating_percentage.append(0)\n",
    "    shop_4_star_rating_percentage.append(0)\n",
    "    shop_3_star_rating_percentage.append(0)\n",
    "    shop_2_star_rating_percentage.append(0)\n",
    "    shop_1_star_rating_percentage.append(0)\n",
    "\n",
    "# extract review count for this item\n",
    "try:\n",
    "    item_rev = soup3.select(\"#listing-right-column > div > div.body-wrap.wt-body-max-width.wt-display-flex-md.wt-flex-direction-column-xs > div.listing-info.review-col.wt-order-xs-6 > div > div > div:nth-child(2)\")[0].text.split(\"Reviews for this item\\n                \\n                    \")[1]\n",
    "    item_rev = int(item_rev.split(\"\\n\")[0].replace(\",\",\"\"))\n",
    "    item_reviews_count.append(item_rev)\n",
    "except IndexError:\n",
    "    item_rev = 0\n",
    "    item_reviews_count.append(item_rev)\n",
    "\n",
    "\n",
    "\n",
    "# extract customer reviews per item\n",
    "rev_list = []\n",
    "if soup3.select(\"#listing-right-column > div > div.body-wrap.wt-body-max-width.wt-display-flex-md.wt-flex-direction-column-xs > div.listing-info.review-col.wt-order-xs-6 > div > div > div:nth-child(2)\")[0].text.find(\"Reviews for this item\") != -1:\n",
    "    rev_key = \"#review-preview-toggle-{}\"\n",
    "    for iterate in range(0,4):\n",
    "        key = rev_key.format(iterate)\n",
    "        try:\n",
    "            rev = soup3.select(key)[0].text.split(\"\\n                    \")[1]\n",
    "            rev = rev.split(\" \\n\\n    \")[0]\n",
    "            rev_list.append(rev)\n",
    "        except IndexError:\n",
    "            rev_list.append(\"N.A.\") \n",
    "    listing_customer_reviews.append(rev_list)\n",
    "else:\n",
    "    listing_customer_reviews.append(\"N.A.\")\n"
   ]
  },
  {
   "cell_type": "markdown",
   "id": "b0069dd1",
   "metadata": {},
   "source": [
    "# extract rating"
   ]
  },
  {
   "cell_type": "code",
   "execution_count": 13,
   "id": "8b78a2b9",
   "metadata": {},
   "outputs": [],
   "source": [
    "global shop_5_star_rating_percentage\n",
    "shop_5_star_rating_percentage = []\n",
    "global shop_4_star_rating_percentage\n",
    "shop_4_star_rating_percentage = []\n",
    "global shop_3_star_rating_percentage\n",
    "shop_3_star_rating_percentage = []\n",
    "global shop_2_star_rating_percentage\n",
    "shop_2_star_rating_percentage = []\n",
    "global shop_1_star_rating_percentage\n",
    "shop_1_star_rating_percentage = []"
   ]
  },
  {
   "cell_type": "code",
   "execution_count": 14,
   "id": "cc6c7224",
   "metadata": {},
   "outputs": [],
   "source": [
    "five = soup.select(\"#listing-right-column > div > div.body-wrap.wt-body-max-width.wt-display-flex-md.wt-flex-direction-column-xs > div.listing-info.review-col.wt-order-xs-6 > div > div > div:nth-child(2)\")[0].text.split(\"\\n5 stars\\n\\n\\n\\n\\n\\n\\n\")[1]\n",
    "five = float(five.split(\"%\\n\\n\\n\\n\\n4 stars\")[0])\n",
    "five = five/100\n",
    "shop_5_star_rating_percentage.append(five)\n",
    "\n",
    "four = soup.select(\"#listing-right-column > div > div.body-wrap.wt-body-max-width.wt-display-flex-md.wt-flex-direction-column-xs > div.listing-info.review-col.wt-order-xs-6 > div > div > div:nth-child(2)\")[0].text.split(\"4 stars\\n\\n\\n\\n\\n\\n\\n\")[1]\n",
    "four = float(four.split(\"%\\n\\n\\n\\n\\n3 stars\")[0])\n",
    "four = four/100\n",
    "shop_4_star_rating_percentage.append(four)\n",
    "\n",
    "three = soup.select(\"#listing-right-column > div > div.body-wrap.wt-body-max-width.wt-display-flex-md.wt-flex-direction-column-xs > div.listing-info.review-col.wt-order-xs-6 > div > div > div:nth-child(2)\")[0].text.split(\"3 stars\\n\\n\\n\\n\\n\\n\\n\")[1]\n",
    "three = float(three.split(\"%\\n\\n\\n\\n\\n\")[0])\n",
    "three = three/100\n",
    "shop_3_star_rating_percentage.append(three)\n",
    "\n",
    "two = soup.select(\"#listing-right-column > div > div.body-wrap.wt-body-max-width.wt-display-flex-md.wt-flex-direction-column-xs > div.listing-info.review-col.wt-order-xs-6 > div > div > div:nth-child(2)\")[0].text.split(\"2 stars\\n\\n\\n\\n\\n\\n\\n\")[1]\n",
    "two = float(two.split(\"%\\n\\n\\n\\n\\n\")[0])\n",
    "two = two/100\n",
    "shop_2_star_rating_percentage.append(two)\n",
    "\n",
    "one = soup.select(\"#listing-right-column > div > div.body-wrap.wt-body-max-width.wt-display-flex-md.wt-flex-direction-column-xs > div.listing-info.review-col.wt-order-xs-6 > div > div > div:nth-child(2)\")[0].text.split(\"1 star\\n\\n\\n\\n\\n\\n\\n\")[1]\n",
    "one = float(one.split(\"%\\n\\n\\n\\n\\n\")[0])\n",
    "one = one/100\n",
    "shop_1_star_rating_percentage.append(one)"
   ]
  },
  {
   "cell_type": "code",
   "execution_count": 15,
   "id": "9c9636c8",
   "metadata": {},
   "outputs": [
    {
     "data": {
      "text/plain": [
       "[1.0]"
      ]
     },
     "execution_count": 15,
     "metadata": {},
     "output_type": "execute_result"
    }
   ],
   "source": [
    "shop_5_star_rating_percentage"
   ]
  },
  {
   "cell_type": "code",
   "execution_count": 53,
   "id": "d06dbd20",
   "metadata": {},
   "outputs": [
    {
     "data": {
      "text/plain": [
       "0.0"
      ]
     },
     "execution_count": 53,
     "metadata": {},
     "output_type": "execute_result"
    }
   ],
   "source": []
  },
  {
   "cell_type": "code",
   "execution_count": 54,
   "id": "1ca15ea2",
   "metadata": {},
   "outputs": [
    {
     "data": {
      "text/plain": [
       "0.0"
      ]
     },
     "execution_count": 54,
     "metadata": {},
     "output_type": "execute_result"
    }
   ],
   "source": []
  },
  {
   "cell_type": "code",
   "execution_count": 55,
   "id": "273377b0",
   "metadata": {},
   "outputs": [
    {
     "data": {
      "text/plain": [
       "0.0"
      ]
     },
     "execution_count": 55,
     "metadata": {},
     "output_type": "execute_result"
    }
   ],
   "source": []
  },
  {
   "cell_type": "code",
   "execution_count": null,
   "id": "fa6000af",
   "metadata": {},
   "outputs": [],
   "source": [
    "835"
   ]
  },
  {
   "cell_type": "code",
   "execution_count": 7,
   "id": "c5f9fe90",
   "metadata": {},
   "outputs": [
    {
     "data": {
      "text/plain": [
       "\"\\n\\n\\n\\n\\n\\n\\n            94 reviews\\n        \\n\\n\\n\\n5 out of 5 stars\\n\\n\\n\\n\\n\\n\\n\\n\\n\\n\\n\\n\\n\\n\\n        Loading\\n    \\n\\n\\n\\n\\n\\n                Reviews for this item\\n                \\n                    5\\n                \\n\\n\\n                Reviews for this shop\\n                \\n                    94\\n                \\n\\n\\n\\n\\n\\n\\n5 stars\\n\\n\\n\\n\\n\\n\\n100%\\n\\n\\n\\n\\n4 stars\\n\\n\\n\\n\\n\\n\\n0%\\n\\n\\n\\n\\n3 stars\\n\\n\\n\\n\\n\\n\\n0%\\n\\n\\n\\n\\n2 stars\\n\\n\\n\\n\\n\\n\\n0%\\n\\n\\n\\n\\n1 star\\n\\n\\n\\n\\n\\n\\n0%\\n\\n\\n\\n\\n\\n\\n\\n\\nSort by: Suggested\\n\\n\\n\\n\\n     Suggested \\n\\n\\n     Most recent \\n\\n\\n\\n\\n\\n\\n\\n            With photos\\n\\n\\n\\n\\n            Filter by rating\\n\\n\\n\\n\\n\\n\\n                        5 stars\\n                    \\n\\n\\n\\n\\n\\n\\n\\n\\n\\n\\n\\n\\n\\n\\n\\n\\n\\n\\n                        4 stars\\n                    \\n\\n\\n\\n\\n\\n\\n\\n\\n\\n\\n\\n\\n\\n\\n\\n\\n\\n\\n                        3 stars\\n                    \\n\\n\\n\\n\\n\\n\\n\\n\\n\\n\\n\\n\\n\\n\\n\\n\\n\\n\\n                        2 stars\\n                    \\n\\n\\n\\n\\n\\n\\n\\n\\n\\n\\n\\n\\n\\n\\n\\n\\n\\n\\n                        1 star\\n                    \\n\\n\\n\\n\\n\\n\\n\\n\\n\\n\\n\\n\\n\\n\\n\\n\\n\\n\\n                        Reset filter\\n                    \\n\\n\\n\\n\\n\\n\\n\\n\\n\\n\\n\\n\\n\\n\\n\\n\\n\\n\\n\\n\\n5 out of 5 stars\\n\\n\\n\\n\\n\\n\\n\\n\\n\\n\\n\\n\\n\\n\\n\\nListing review by Brisa\\n\\n\\n\\n                    The dress is just wow! The communication with Nicole was just great! The dress arrived exactly 4 weeks after ordering. I wanted small pearls instead of crystal stones in the middle of the flowers, and Nicole did that perfectly. I would call the color salmon rather than pink, but still beautiful!!! The material is super soft and does not scratch.It may be that I measured the length from shoulder to the beginning of the knee incorrectly, and that's why the dress was a bit shorter than what I had imagined, but it still looked great! (only disadvantage: it will not fit very soon :'(.But it will certainly not be the last dress I order from Nicole! :-) \\n\\n    \\n\\n\\n\\n\\n\\n\\n\\n\\n                See in original language\\n            \\n\\n                Translated by Microsoft\\n\\n\\n\\n\\n        Das Kleid ist einfach wow! Die Kommunikation mit Nicole war einfach super! Das Kleid kam genau 4 Wochen nach Bestellung an. Ich wollte kleine Perlen statt Kristallsteine in der Mitte der Blüten, und das hat Nicole perfekt umgesetzt. Die Farbe würde ich eher als Lachs denn als Rosa bezeichnen, aber immer noch wunderhübsch!!! Das Material ist super weich und kratzt nicht. \\n\\nEs kann sein, dass ich die Länge von Schulter bis zum Knieanfang falsch gemessen habe, und deswegen war das Kleid ein bisschen kürzer als das, was ich mir vorgestellt hatte, aber es sah trotzdem noch super aus! (einziger Nachteil: es wird ganz bald nicht mehr passen :'(. \\n\\nAber es wird mit Sicherheit nicht das letzte Kleid, das ich bei Nicole bestelle! :-)\\n    \\n\\n\\n\\n\\nPurchased item:\\xa0\\nFlower Girl Dress, Pink, Blush, Tulle, Crystal Beaded Flowers, Princess (D006)\\n\\n\\n\\n\\n\\n\\n\\n\\n\\n\\n\\n\\n\\n\\n\\n\\n\\n\\n\\n\\n\\n\\n\\n\\n\\n\\n\\n\\n\\n\\n\\n\\n\\n\\n\\n\\n\\n\\n\\n\\n\\n\\n\\n\\n\\n\\n\\n\\n                    Brisa Jul 9, 2021\\n\\n                \\n\\n\\n\\n\\n\\n                Helpful?\\n            \\n\\n\\n\\n\\n\\n\\n\\n\\n\\n\\n\\n\\n\\n\\n\\n\\n\\n\\n\\n\\n\\n\\n5 out of 5 stars\\n\\n\\n\\n\\n\\n\\n\\n\\n\\n\\n\\n\\n\\n\\n\\nListing review by Annika Østergaard\\n\\n\\n\\n                    Received my daughters flower girl dress today - it is just SO perfect and well made! True to color and as described!\\nI’m really looking forward to her wearing it at our wedding!\\nNicole was great at responding and my dress came well in time, as promised! \\nThank you so much! \\n\\n    \\n\\n\\n\\n\\n\\n\\n\\nPurchased item:\\xa0\\nFlower Girl Dress, Pink, Blush, Tulle, Crystal Beaded Flowers, Princess (D006)\\n\\n\\n\\n\\n\\n\\n\\n\\n\\n\\n\\n\\n\\n\\n\\n\\n\\n\\n                    Annika Østergaard Aug 5, 2019\\n\\n                \\n\\n\\n\\n\\n\\n                1 Helpful\\n            \\n\\n\\n\\n\\n\\n\\n\\n\\n\\n\\n\\n\\n\\n\\n\\n\\n\\n\\n\\n\\n\\n\\n5 out of 5 stars\\n\\n\\n\\n\\n\\n\\n\\n\\n\\n\\n\\n\\n\\n\\n\\nListing review by Elisa\\n\\n\\n\\n                    Very pretty, fits the photo, very good service with adapted measurement included. \\n\\n    \\n\\n\\n\\n\\n\\n\\n\\n\\n                See in original language\\n            \\n\\n                Translated by Microsoft\\n\\n\\n\\n\\n        Très jolie, correspond à la photo, très bon service avec mesure adaptée comprise.\\n    \\n\\n\\n\\n\\nPurchased item:\\xa0\\nFlower Girl Dress, Pink, Blush, Tulle, Crystal Beaded Flowers, Princess (D006)\\n\\n\\n\\n\\n\\n\\n\\n\\n\\n\\n\\n\\n\\n\\n\\n\\n\\n\\n\\n\\n\\n\\n\\n\\n\\n\\n\\n\\n\\n\\n\\n\\n\\n\\n\\n\\n\\n\\n                    Elisa Aug 22, 2021\\n\\n                \\n\\n\\n\\n\\n\\n                Helpful?\\n            \\n\\n\\n\\n\\n\\n\\n\\n\\n\\n\\n\\n\\n5 out of 5 stars\\n\\n\\n\\n\\n\\n\\n\\n\\n\\n\\n\\n\\nPurchased item:\\xa0\\nFlower Girl Dress, Pink, Blush, Tulle, Crystal Beaded Flowers, Princess (D006)\\n\\n\\n\\n\\n\\n\\n\\n\\n                    kelly golczak Apr 26, 2020\\n\\n                \\n\\n\\n\\n\\n\\n                1 Helpful\\n            \\n\\n\\n\\n\\n\\n\\n\\n\\n\\n\\n\\n\\n\\n\\nPrevious page\\n\\n\\n\\n\\n\\n\\n\\nCurrent page\\n1\\n\\n\\n\\n\\nPage 2\\n2\\n\\n\\n\\n\\nNext page\\n\\n\\n\\n\\n\\n\\n\\n\\n\\n\\n\""
      ]
     },
     "execution_count": 7,
     "metadata": {},
     "output_type": "execute_result"
    }
   ],
   "source": [
    "soup.select(\"#listing-right-column > div > div.body-wrap.wt-body-max-width.wt-display-flex-md.wt-flex-direction-column-xs > div.listing-info.review-col.wt-order-xs-6 > div > div > div:nth-child(2)\")[0].get_text()"
   ]
  },
  {
   "cell_type": "code",
   "execution_count": 19,
   "id": "b242acd6",
   "metadata": {},
   "outputs": [
    {
     "data": {
      "text/plain": [
       "\"88%\\n\\n\\n\\n\\n4 stars\\n\\n\\n\\n\\n\\n\\n7%\\n\\n\\n\\n\\n3 stars\\n\\n\\n\\n\\n\\n\\n2%\\n\\n\\n\\n\\n2 stars\\n\\n\\n\\n\\n\\n\\n1%\\n\\n\\n\\n\\n1 star\\n\\n\\n\\n\\n\\n\\n2%\\n\\n\\n\\n\\n\\n\\n\\n\\nSort by: Suggested\\n\\n\\n\\n\\n     Suggested \\n\\n\\n     Most recent \\n\\n\\n\\n\\n\\n\\n\\n            With photos\\n\\n\\n\\n\\n            Filter by rating\\n\\n\\n\\n\\n\\n\\n                        5 stars\\n                    \\n\\n\\n\\n\\n\\n\\n\\n\\n\\n\\n\\n\\n\\n\\n\\n\\n\\n\\n                        4 stars\\n                    \\n\\n\\n\\n\\n\\n\\n\\n\\n\\n\\n\\n\\n\\n\\n\\n\\n\\n\\n                        3 stars\\n                    \\n\\n\\n\\n\\n\\n\\n\\n\\n\\n\\n\\n\\n\\n\\n\\n\\n\\n\\n                        2 stars\\n                    \\n\\n\\n\\n\\n\\n\\n\\n\\n\\n\\n\\n\\n\\n\\n\\n\\n\\n\\n                        1 star\\n                    \\n\\n\\n\\n\\n\\n\\n\\n\\n\\n\\n\\n\\n\\n\\n\\n\\n\\n\\n                        Reset filter\\n                    \\n\\n\\n\\n\\n\\n\\n\\n\\n\\n\\n\\n\\n        Loading\\n    \\n\\n\\n\\n\\n\\n\\n\\n\\n\\n5 out of 5 stars\\n\\n\\n\\n\\n\\n\\n\\n\\n\\n\\n\\n\\n\\n\\n\\nListing review by Claire Hollingsworth David Jacques\\n\\n\\n\\n                    Made to measure dress looked absolutely gorgeous on my neice. \\n\\n    \\n\\n\\n\\n\\n\\n\\n\\nPurchased item:\\xa0\\nJunior skirt and top\\n\\n\\n\\n\\n\\n\\n\\n\\n\\n\\n\\n\\n\\n\\n\\n\\n\\n\\n\\n\\n\\n\\n\\n\\n\\n\\n\\n\\n\\n\\n\\n\\n\\n\\n\\n\\n\\n\\n                    Claire Hollingsworth David Jacques Oct 26, 2022\\n\\n                \\n\\n\\n\\n\\n\\n                Helpful?\\n            \\n\\n\\n\\n\\n\\n\\n\\n\\n\\n\\n\\n\\n5 out of 5 stars\\n\\n\\n\\n\\n\\n\\n\\n\\n\\n\\n\\n\\n\\n\\n\\nListing review by Lizzie Haydon\\n\\n\\n\\n                    Incredible quality, fits perfectly, our flower girl didn’t want to take it off! \\n\\n    \\n\\n\\n\\n\\n\\n\\n\\nPurchased item:\\xa0\\nDress for Flower Girl, Junior Bridesmaid, White Lace with Lemon Tulle Skirt, Matching Sash, Wedding, Girl's Dress\\n\\n\\n\\n\\n\\n\\n\\n\\n\\n\\n\\n\\n\\n\\n\\n\\n\\n\\n\\n\\n\\n\\n\\n\\n\\n\\n\\n\\n\\n\\n\\n\\n\\n\\n\\n\\n                    Lizzie Haydon Oct 2, 2022\\n\\n                \\n\\n\\n\\n\\n\\n                Helpful?\\n            \\n\\n\\n\\n\\n\\n\\n\\n\\n\\n\\n\\n\\n5 out of 5 stars\\n\\n\\n\\n\\n\\n\\n\\n\\n\\n\\n\\n\\n\\n\\n\\nListing review by lydianic1\\n\\n\\n\\n                    absolutely perfect- managed to colour match with a raw silk top- using different colours of tulle layers to get the whole effect. wonderful. And so comfy to wear and hard-wearing. We took photos outside in the park and you can't tell from looking at it that its ever been worn! \\n\\n    \\n\\n\\n\\n\\n\\n\\n\\nPurchased item:\\xa0\\nChampagne Bridal Skirt, Tulle Long Wedding Skirt, Silk Lined Optional Train, A Line Boho Maxi Skirt, Beach Bridal Separate, Sizes 6-30\\n\\n\\n\\n\\n\\n\\n\\n\\n\\n\\n\\n\\n\\n\\n\\n\\n\\n\\n\\n\\n\\n\\n\\n\\n\\n\\n\\n\\n\\n\\n\\n\\n\\n\\n\\n\\n\\n\\n\\n\\n\\n\\n\\n\\n\\n\\n                    lydianic1 Oct 6, 2022\\n\\n                \\n\\n\\n\\n\\n\\n                Helpful?\\n            \\n\\n\\n\\n\\n\\n\\n\\n\\n\\n\\n\\n\\n\\n\\n\\n\\n\\n\\n\\n\\n\\n\\n5 out of 5 stars\\n\\n\\n\\n\\n\\n\\n\\n\\n\\n\\n\\n\\n\\n\\n\\nListing review by Polly Henshaw\\n\\n\\n\\n                    The dresses are GORGEOUS, simple and very age appropriate. I messed up my delivery address so the item was returned to sender but they resent it out as soon as they got it back and free which was very kind given it was my mistake. \\n\\n    \\n\\n\\n\\n\\n\\n\\n\\nPurchased item:\\xa0\\nDress for Flower Girl, Junior Bridesmaid, Sleeveless Chiffon Dress, Matching Sash, Pleats and Ribbon Detail, Wedding Girl's Dress\\n\\n\\n\\n\\n\\n\\n\\n\\n\\n\\n\\n\\n\\n\\n\\n\\n\\n\\n\\n\\n\\n\\n\\n\\n\\n\\n\\n                    Polly Henshaw Sep 12, 2022\\n\\n                \\n\\n\\n\\n\\n\\n                Helpful?\\n            \\n\\n\\n\\n\\n\\n\\n\\n\\n\\n\\nPrevious page\\n\\n\\n\\n\\n\\n\\n\\nCurrent page\\n1\\n\\n\\n\\n\\nPage 2\\n2\\n\\n\\n\\n\\n                        …\\n                    \\n\\n\\n\\nPage 209\\n209\\n\\n\\n\\n\\nNext page\\n\\n\\n\\n\\n\\n\\n\\n\\n\\n\\n\""
      ]
     },
     "execution_count": 19,
     "metadata": {},
     "output_type": "execute_result"
    }
   ],
   "source": [
    "soup.select(\"#listing-right-column > div > div.body-wrap.wt-body-max-width.wt-display-flex-md.wt-flex-direction-column-xs > div.listing-info.review-col.wt-order-xs-6 > div > div > div:nth-child(2)\")[0].text.split(\"5 out of 5 stars\\n\\n\\n\\n\\n\\n\\n\\n\\n\\n\\n\\n\\n\\n\\n5 stars\\n\\n\\n\\n\\n\\n\\n\")[1]"
   ]
  },
  {
   "cell_type": "code",
   "execution_count": 25,
   "id": "06c7cd79",
   "metadata": {
    "scrolled": true
   },
   "outputs": [
    {
     "data": {
      "text/plain": [
       "0.88"
      ]
     },
     "execution_count": 25,
     "metadata": {},
     "output_type": "execute_result"
    }
   ],
   "source": [
    "test=soup.select(\"#listing-right-column > div > div.body-wrap.wt-body-max-width.wt-display-flex-md.wt-flex-direction-column-xs > div.listing-info.review-col.wt-order-xs-6 > div > div > div:nth-child(2)\")[0].text.split(\"5 out of 5 stars\\n\\n\\n\\n\\n\\n\\n\\n\\n\\n\\n\\n\\n\\n\\n5 stars\\n\\n\\n\\n\\n\\n\\n\")[1]\n",
    "test=float(test.split(\"%\\n\\n\\n\\n\\n4 stars\")[0])\n",
    "test=test/100\n",
    "test"
   ]
  },
  {
   "cell_type": "code",
   "execution_count": null,
   "id": "9000a929",
   "metadata": {},
   "outputs": [],
   "source": [
    "lulu = soup.select(i)[0].get_text()"
   ]
  },
  {
   "cell_type": "code",
   "execution_count": null,
   "id": "d29575bc",
   "metadata": {},
   "outputs": [],
   "source": [
    "lulu[19:]"
   ]
  },
  {
   "cell_type": "code",
   "execution_count": null,
   "id": "fbdfd2e5",
   "metadata": {},
   "outputs": [],
   "source": [
    "shop = soup.select(i)[0].get_text()"
   ]
  },
  {
   "cell_type": "code",
   "execution_count": null,
   "id": "313caa44",
   "metadata": {},
   "outputs": [],
   "source": [
    "lulu"
   ]
  },
  {
   "cell_type": "code",
   "execution_count": null,
   "id": "4c923a07",
   "metadata": {},
   "outputs": [],
   "source": [
    "shop"
   ]
  },
  {
   "cell_type": "code",
   "execution_count": null,
   "id": "7fa03459",
   "metadata": {},
   "outputs": [],
   "source": []
  },
  {
   "cell_type": "code",
   "execution_count": null,
   "id": "77c1d3b3",
   "metadata": {},
   "outputs": [],
   "source": []
  },
  {
   "cell_type": "code",
   "execution_count": null,
   "id": "76d6e906",
   "metadata": {},
   "outputs": [],
   "source": []
  },
  {
   "cell_type": "code",
   "execution_count": null,
   "id": "0a9c1449",
   "metadata": {},
   "outputs": [],
   "source": []
  },
  {
   "cell_type": "code",
   "execution_count": null,
   "id": "5b249559",
   "metadata": {},
   "outputs": [],
   "source": []
  },
  {
   "cell_type": "markdown",
   "id": "5efc4145",
   "metadata": {},
   "source": [
    "extract shop location"
   ]
  },
  {
   "cell_type": "code",
   "execution_count": null,
   "id": "54dc856e",
   "metadata": {},
   "outputs": [],
   "source": [
    "i = \"#shipping-variant-div > div > div.wt-grid.wt-mb-xs-3\""
   ]
  },
  {
   "cell_type": "code",
   "execution_count": null,
   "id": "67ff7033",
   "metadata": {},
   "outputs": [],
   "source": [
    "i = \"#shipping-variant-div > div > div.wt-grid.wt-mb-xs-3 > div.wt-grid__item-xs-12.wt-text-black.wt-text-caption\""
   ]
  },
  {
   "cell_type": "code",
   "execution_count": null,
   "id": "0cd47c1b",
   "metadata": {},
   "outputs": [],
   "source": [
    "soup.select(i)[0].get_text()"
   ]
  },
  {
   "cell_type": "code",
   "execution_count": null,
   "id": "d325868a",
   "metadata": {},
   "outputs": [],
   "source": [
    "location = soup.select(\"#shipping-variant-div > div > div.wt-grid.wt-mb-xs-3 > div.wt-grid__item-xs-12.wt-text-black.wt-text-caption\")[0].get_text()\n",
    "location = location[16:]\n",
    "location = location[:-1]"
   ]
  },
  {
   "cell_type": "code",
   "execution_count": null,
   "id": "26a4f2f2",
   "metadata": {},
   "outputs": [],
   "source": [
    "a=a[16:]\n",
    "a=a[:-1]"
   ]
  },
  {
   "cell_type": "code",
   "execution_count": null,
   "id": "8ecc6719",
   "metadata": {},
   "outputs": [],
   "source": [
    "a"
   ]
  },
  {
   "cell_type": "code",
   "execution_count": null,
   "id": "b2487bda",
   "metadata": {},
   "outputs": [],
   "source": []
  },
  {
   "cell_type": "markdown",
   "id": "d959fee1",
   "metadata": {},
   "source": [
    "Exctracting returns policy"
   ]
  },
  {
   "cell_type": "code",
   "execution_count": null,
   "id": "f5a7310d",
   "metadata": {},
   "outputs": [],
   "source": [
    "i = \"#shipping-variant-div > div > div.wt-grid.wt-mb-xs-3 > div:nth-child(5) > div > div\""
   ]
  },
  {
   "cell_type": "code",
   "execution_count": null,
   "id": "90f8920e",
   "metadata": {},
   "outputs": [],
   "source": [
    "i = \"#shipping-variant-div > div > div.wt-grid.wt-mb-xs-3\""
   ]
  },
  {
   "cell_type": "code",
   "execution_count": null,
   "id": "4edfcae7",
   "metadata": {},
   "outputs": [],
   "source": [
    "a = soup.select(i)[0].get_text()"
   ]
  },
  {
   "cell_type": "code",
   "execution_count": null,
   "id": "f47a7bf5",
   "metadata": {},
   "outputs": [],
   "source": [
    "a.find(\"Accepted\")"
   ]
  },
  {
   "cell_type": "code",
   "execution_count": null,
   "id": "47163575",
   "metadata": {},
   "outputs": [],
   "source": [
    "ret = soup.select(\"#shipping-variant-div > div > div.wt-grid.wt-mb-xs-3\")[0].get_text()\n",
    "if ret.find(\"Accepted\") != -1:\n",
    "    ret = 1\n",
    "else:\n",
    "    ret = 0"
   ]
  },
  {
   "cell_type": "code",
   "execution_count": null,
   "id": "3d80800b",
   "metadata": {},
   "outputs": [],
   "source": [
    "ret"
   ]
  },
  {
   "cell_type": "code",
   "execution_count": null,
   "id": "2508a373",
   "metadata": {},
   "outputs": [],
   "source": []
  },
  {
   "cell_type": "code",
   "execution_count": 132,
   "id": "f7d91838",
   "metadata": {},
   "outputs": [],
   "source": [
    "testtt = list(test_df[\"listing_url\"])"
   ]
  },
  {
   "cell_type": "code",
   "execution_count": 133,
   "id": "64a4715b",
   "metadata": {},
   "outputs": [
    {
     "data": {
      "text/plain": [
       "['https://www.etsy.com/listing/933095128/white-flower-girl-dress-lace-flower-girl?click_key=728d3c6cce8f08b92e6f5dd6a5ab3615ec01ed87%3A933095128&click_sum=38933264&ga_order=highest_reviews&ga_search_type=all&ga_view_type=gallery&ga_search_query=flower+girl+dress&ref=search_in_grid-1-1&pro=1',\n",
       " 'https://www.etsy.com/listing/1125944983/flower-girl-dress-wedding-ivory-chiffon?click_key=1e7d13973582bd316f6f36cb2686ffb0c7923340%3A1125944983&click_sum=8de5c95e&ga_order=highest_reviews&ga_search_type=all&ga_view_type=gallery&ga_search_query=flower+girl+dress&ref=search_in_grid-1-2&frs=1',\n",
       " 'https://www.etsy.com/listing/1209369337/dusty-rose-flower-girl-dress-baby-linen?click_key=126398eae90401bd4dfd894694ac48cd3681a541%3A1209369337&click_sum=d952fe31&ga_order=highest_reviews&ga_search_type=all&ga_view_type=gallery&ga_search_query=flower+girl+dress&ref=search_in_grid-1-3&frs=1',\n",
       " 'https://www.etsy.com/listing/779701917/communion-dress-communion-dress-flower?click_key=9880f5f1bce43801efd2ecb6a20fa03d1f85bc68%3A779701917&click_sum=f4bbae6a&ga_order=highest_reviews&ga_search_type=all&ga_view_type=gallery&ga_search_query=flower+girl+dress&ref=search_in_grid-1-4&frs=1',\n",
       " 'https://www.etsy.com/listing/769082893/communion-dress-communion-dress-flower?click_key=e8a1810b7219b5966730fce4e0e0d90e09bd3e7e%3A769082893&click_sum=dbd86c60&ga_order=highest_reviews&ga_search_type=all&ga_view_type=gallery&ga_search_query=flower+girl+dress&ref=search_in_grid-1-5&frs=1',\n",
       " 'https://www.etsy.com/listing/679355180/flower-girl-dress-birthday-pink-knee?click_key=2aad2277aad46851dc6632245f043b0aa9075cd0%3A679355180&click_sum=6a5387da&ga_order=highest_reviews&ga_search_type=all&ga_view_type=gallery&ga_search_query=flower+girl+dress&ref=search_in_grid-1-6&frs=1',\n",
       " 'https://www.etsy.com/listing/1170100288/lace-flower-girl-lace-girl-dress-lace?click_key=a1239e9e97791ef3c2254f2ab709f7c30a177b79%3A1170100288&click_sum=5bea568e&ga_order=highest_reviews&ga_search_type=all&ga_view_type=gallery&ga_search_query=flower+girl+dress&ref=search_in_grid-1-7&cns=1',\n",
       " 'https://www.etsy.com/listing/1160365834/christmas-dress-flower-girl-dress-in?click_key=5d2630fc2e61e2625895c4758355581e02f2256a%3A1160365834&click_sum=36fef90b&ga_order=highest_reviews&ga_search_type=all&ga_view_type=gallery&ga_search_query=flower+girl+dress&ref=search_in_grid-1-8&frs=1',\n",
       " 'https://www.etsy.com/listing/1200201263/lace-flower-girl-lace-girl-dress-white?click_key=074ff500253da989ff6e0688affb93bf771ac737%3A1200201263&click_sum=d3b3d436&ga_order=highest_reviews&ga_search_type=all&ga_view_type=gallery&ga_search_query=flower+girl+dress&ref=search_in_grid-2-1',\n",
       " 'https://www.etsy.com/listing/1267301182/girls-baby-blue-lace-tulle-dress-sky?click_key=3f317beb9946a6ed6380a4e705b25d531022bc59%3A1267301182&click_sum=5d961684&ga_order=highest_reviews&ga_search_type=all&ga_view_type=gallery&ga_search_query=flower+girl+dress&ref=search_in_grid-2-2&frs=1',\n",
       " 'https://www.etsy.com/listing/1159003047/dress-spring-girl-baby-flower-girl?click_key=8ab8170da9b4805290a2c62ba11d457d59b111ed%3A1159003047&click_sum=e3187bf4&ga_order=highest_reviews&ga_search_type=all&ga_view_type=gallery&ga_search_query=flower+girl+dress&ref=search_in_grid-2-3&pro=1&sts=1',\n",
       " 'https://www.etsy.com/listing/700863869/beaded-lace-v-back-champagne-tulle?click_key=00aec7edc22e51e416032b16805aac49c42ed4c8%3A700863869&click_sum=d0b6b8e4&ga_order=highest_reviews&ga_search_type=all&ga_view_type=gallery&ga_search_query=flower+girl+dress&ref=search_in_grid-2-4',\n",
       " 'https://www.etsy.com/listing/708284763/baptism-dress-wedding-dress-flower-girl?click_key=614a966a6bde530725b2d9fd9348c7293754bff7%3A708284763&click_sum=cf641c32&ga_order=highest_reviews&ga_search_type=all&ga_view_type=gallery&ga_search_query=flower+girl+dress&ref=search_in_grid-2-5&sca=1&sts=1',\n",
       " 'https://www.etsy.com/listing/450146374/ivory-navy-blue-taffeta-stripe-v-back?click_key=a6de1b8370ef37bfdc848abda502261682e5e244%3A450146374&click_sum=f14eaa5e&ga_order=highest_reviews&ga_search_type=all&ga_view_type=gallery&ga_search_query=flower+girl+dress&ref=search_in_grid-2-6&cns=1',\n",
       " 'https://www.etsy.com/listing/1039217328/purple-christmas-dress-flower-girl-dress?click_key=69d61aac4db656a24f6b8697e2dc2587dbad30bd%3A1039217328&click_sum=423bada7&ga_order=highest_reviews&ga_search_type=all&ga_view_type=gallery&ga_search_query=flower+girl+dress&ref=search_in_grid-2-7&frs=1',\n",
       " 'https://www.etsy.com/listing/1101584304/christmas-photoshoot-linen-dress?click_key=15741b297bb90fbdb471647eb9ca2900393cba21%3A1101584304&click_sum=1baf8dfe&ga_order=highest_reviews&ga_search_type=all&ga_view_type=gallery&ga_search_query=flower+girl+dress&ref=search_in_grid-2-8&frs=1']"
      ]
     },
     "execution_count": 133,
     "metadata": {},
     "output_type": "execute_result"
    }
   ],
   "source": [
    "testtt"
   ]
  },
  {
   "cell_type": "markdown",
   "id": "3efd171f",
   "metadata": {},
   "source": [
    "## extracting cost to ship"
   ]
  },
  {
   "cell_type": "code",
   "execution_count": 96,
   "id": "567133bb",
   "metadata": {},
   "outputs": [
    {
     "data": {
      "text/plain": [
       "'\\n\\n\\n\\n\\n\\n\\nLieferung\\n\\n\\n\\n        Der Liefertermin wird vom Verkäufer angegeben und kann von deinem Kaufdatum, dem Wohnort des Empfängers, der Bearbeitungszeit und dem Standort des Verkäufers sowie dem Versandanbieter abhängen.\\n    \\n\\nMehr erfahren\\n\\n\\n\\n18. Nov-02. Dez \\n\\n\\n\\n\\n\\n\\n\\n\\n\\n\\n\\n\\n\\n\\n31. Okt\\n\\nBestellung aufgegeben\\n\\n\\n\\n                Nachdem du deine Bestellung aufgegeben hast, benötigt BeverlyCoStore 1\\xa0–\\xa02 Wochen, um sie versandfertig zu machen.\\n            \\n\\n\\n\\n\\n\\n\\n\\n\\n\\n\\n\\n\\n\\n\\n\\n\\n07.-14. Nov\\n\\nBestellung wird verschickt\\n\\n\\n\\n                BeverlyCoStore bringt deine Bestellung zur Post.\\n            \\n\\n\\n\\n\\n\\n\\n\\n\\n\\n\\n\\n\\n\\n18. Nov-02. Dez\\n\\nZugestellt!\\n\\n\\n\\n                Ankunft bei dir zuhause am 18. Nov-02. Dez!\\n            \\n\\n\\n\\n\\n\\n\\n\\n\\n\\n\\nVersandkosten\\n52,47 €\\n\\n\\n\\n\\n\\nWiderruf & Umtausch\\nAkzeptiert\\nAusnahmen sind möglich\\n\\n\\nReturn & exchange window\\n30 Tage\\nfrom item delivery\\n\\n\\n\\n\\n\\n\\n\\n\\n                Etsy kompensiert die CO2-Emissionen, die durch Versand und Verpackung bei diesem Kauf entstehen.\\n            \\n\\n\\n\\n                Etsy kompensiert die CO2-Emissionen, die durch Versand und Verpackung bei diesem Kauf entstehen.\\n            \\n\\n\\n\\n\\n\\n\\nLieferung nach Deutschland\\n\\n\\n\\n\\n\\nBei der Berechnung deiner Versandkosten ist ein Problem aufgetreten. Bitte versuche es erneut.\\n\\n\\n\\nLand\\n\\n\\n\\n----------\\nAustralien\\nDeutschland\\nFrankreich\\nGriechenland\\nIndien\\nIrland\\nItalien\\nJapan\\nKanada\\nNeuseeland\\nNiederlande\\nPolen\\nPortugal\\nSpanien\\nUSA\\nVereinigtes Königreich\\n----------\\nAfghanistan\\nÄgypten\\nÅland\\nAlbanien\\nAlgerien\\nAmerikanische Jungferninseln\\nAmerikanisch-Samoa\\nAndorra\\nAngola\\nAnguilla\\nAntarktika\\nAntigua und Barbuda\\nÄquatorialguinea\\nArgentinien\\nArmenien\\nAruba\\nAserbaidschan\\nÄthiopien\\nAustralien\\nBahamas\\nBahrain\\nBangladesch\\nBarbados\\nBelgien\\nBelize\\nBenin\\nBermuda\\nBhutan\\nBolivien\\nBosnien und Herzegowina\\nBotswana\\nBouvetinsel\\nBrasilien\\nBritische Jungferninseln\\nBritisches Territorium im Indischen Ozean\\nBrunei Darussalam\\nBulgarien\\nBurkina Faso\\nBurundi\\nChile\\nCookinseln\\nCosta Rica\\nCuraçao\\nDänemark\\nDeutschland\\nDominica\\nDominikanische Republik\\nDschibuti\\nEcuador\\nElfenbeinküste\\nEl Salvador\\nEritrea\\nEstland\\nFalklandinseln\\nFäröer\\nFidschi\\nFinnland\\nFrankreich\\nFranzösische Süd- und Antarktisgebiete\\nFranzösisch-Guayana\\nFranzösisch-Polynesien\\nGabun\\nGambia\\nGeorgien\\nGhana\\nGibraltar\\nGrenada\\nGriechenland\\nGrönland\\nGuadeloupe\\nGuam\\nGuatemala\\nGuernsey\\nGuinea\\nGuinea-Bissau\\nGuyana\\nHaiti\\nHeard und McDonaldinseln\\nHonduras\\nHongkong\\nIndien\\nIndonesien\\nIrak\\nIrland\\nIsland\\nIsle of Man\\nIsrael\\nItalien\\nJamaika\\nJapan\\nJemen\\nJersey\\nJordanien\\nKaimaninseln\\nKambodscha\\nKamerun\\nKanada\\nKap Verde\\nKaribische Niederlande (Bonaire, Sint Eustatius und Saba)\\nKasachstan\\nKatar\\nKenia\\nKirgisistan\\nKiribati\\nKokosinseln\\nKolumbien\\nKomoren\\nKongo, Demokratische Republik\\nKorea, Republik\\nKosovo\\nKroatien\\nKuwait\\nLaos\\nLesotho\\nLettland\\nLibanon\\nLiberia\\nLiechtenstein\\nLitauen\\nLuxemburg\\nLybien\\nMacao\\nMadagaskar\\nMalawi\\nMalaysia\\nMalediven\\nMali\\nMalta\\nMarokko\\nMarshallinseln\\nMartinique\\nMauretanien\\nMauritius\\nMayotte\\nMexiko\\nMikronesien\\nMoldawien\\nMonaco\\nMongolei\\nMontenegro\\nMontserrat\\nMosambik\\nMyanmar\\nNamibia\\nNauru\\nNepal\\nNeukaledonien\\nNeuseeland\\nNicaragua\\nNiederlande\\nNiederländische Antillen\\nNiger\\nNigeria\\nNiue\\nNördliche Marianen\\nNordmazedonien\\nNorfolkinsel\\nNorwegen\\nOman\\nÖsterreich\\nPakistan\\nPalästinensische Autonomiegebiete\\nPalau\\nPanama\\nPapua-Neuguinea\\nParaguay\\nPeru\\nPhilippinen\\nPolen\\nPortugal\\nPuerto Rico\\nRepublik Kongo\\nRéunion\\nRuanda\\nRumänien\\nSaint-Barthélemy\\nSaint-Martin\\nSaint-Pierre und Miquelon\\nSalomonen\\nSambia\\nSamoa\\nSan Marino\\nSão Tomé und Príncipe\\nSaudi-Arabien\\nSchweden\\nSchweiz\\nSenegal\\nSerbien\\nSerbien und Montenegro\\nSeychellen\\nSierra Leone\\nSimbabwe\\nSingapur\\nSint Maarten\\nSlowakei\\nSlowenien\\nSomalia\\nSpanien\\nSpitzbergen und Jan Mayen\\nSri Lanka\\nSt. Helena und Tristan da Cunha\\nSt. Kitts und Nevis\\nSt. Lucia\\nSt. Vincent und Grenadinen\\nSüdafrika\\nSudan\\nSüdgeorgien und Südliche Sandwichinseln\\nSüdsudan\\nSuriname\\nSwasiland\\nTadschikistan\\nTaiwan\\nTansania\\nThailand\\nTimor-Leste, Demokratische Republik\\nTogo\\nTokelau\\nTonga\\nTrinidad und Tobago\\nTschad\\nTschechische Republik\\nTunesien\\nTürkei\\nTurkmenistan\\nTurks- und Caicosinseln\\nTuvalu\\nUganda\\nUkraine\\nUngarn\\nUnited States Minor Outlying Islands\\nUruguay\\nUSA\\nUsbekistan\\nVanuatu\\nVatikanstadt\\nVenezuela\\nVereinigte Arabische Emirate\\nVereinigtes Königreich\\nVietnam\\nVolksrepublik China\\nWallis und Futuna\\nWeihnachtsinsel\\nWestsahara\\nZentralafrikanische Republik\\nZypern\\n\\n\\n\\n\\n\\n\\n                        Postleitzahl\\n            \\n\\n\\n                        Bitte eine gültige Postleitzahl angeben.\\n            \\n\\n\\n\\n                Senden\\n                \\n    \\n\\n        Wird geladen\\n    \\n\\n\\n\\n\\n\\n    Versand aus Ukraine\\n\\n\\n\\n'"
      ]
     },
     "execution_count": 96,
     "metadata": {},
     "output_type": "execute_result"
    }
   ],
   "source": [
    "soup.select(\"#shipping-variant-div > div > div.wt-grid.wt-mb-xs-3\")[0].text"
   ]
  },
  {
   "cell_type": "code",
   "execution_count": 98,
   "id": "9aad0e6f",
   "metadata": {},
   "outputs": [
    {
     "data": {
      "text/plain": [
       "'52,47 €\\n\\n\\n\\n\\n\\nWiderruf & Umtausch\\nAkzeptiert\\nAusnahmen sind möglich\\n\\n\\nReturn & exchange window\\n30 Tage\\nfrom item delivery\\n\\n\\n\\n\\n\\n\\n\\n\\n                Etsy kompensiert die CO2-Emissionen, die durch Versand und Verpackung bei diesem Kauf entstehen.\\n            \\n\\n\\n\\n                Etsy kompensiert die CO2-Emissionen, die durch Versand und Verpackung bei diesem Kauf entstehen.\\n            \\n\\n\\n\\n\\n\\n\\nLieferung nach Deutschland\\n\\n\\n\\n\\n\\nBei der Berechnung deiner Versandkosten ist ein Problem aufgetreten. Bitte versuche es erneut.\\n\\n\\n\\nLand\\n\\n\\n\\n----------\\nAustralien\\nDeutschland\\nFrankreich\\nGriechenland\\nIndien\\nIrland\\nItalien\\nJapan\\nKanada\\nNeuseeland\\nNiederlande\\nPolen\\nPortugal\\nSpanien\\nUSA\\nVereinigtes Königreich\\n----------\\nAfghanistan\\nÄgypten\\nÅland\\nAlbanien\\nAlgerien\\nAmerikanische Jungferninseln\\nAmerikanisch-Samoa\\nAndorra\\nAngola\\nAnguilla\\nAntarktika\\nAntigua und Barbuda\\nÄquatorialguinea\\nArgentinien\\nArmenien\\nAruba\\nAserbaidschan\\nÄthiopien\\nAustralien\\nBahamas\\nBahrain\\nBangladesch\\nBarbados\\nBelgien\\nBelize\\nBenin\\nBermuda\\nBhutan\\nBolivien\\nBosnien und Herzegowina\\nBotswana\\nBouvetinsel\\nBrasilien\\nBritische Jungferninseln\\nBritisches Territorium im Indischen Ozean\\nBrunei Darussalam\\nBulgarien\\nBurkina Faso\\nBurundi\\nChile\\nCookinseln\\nCosta Rica\\nCuraçao\\nDänemark\\nDeutschland\\nDominica\\nDominikanische Republik\\nDschibuti\\nEcuador\\nElfenbeinküste\\nEl Salvador\\nEritrea\\nEstland\\nFalklandinseln\\nFäröer\\nFidschi\\nFinnland\\nFrankreich\\nFranzösische Süd- und Antarktisgebiete\\nFranzösisch-Guayana\\nFranzösisch-Polynesien\\nGabun\\nGambia\\nGeorgien\\nGhana\\nGibraltar\\nGrenada\\nGriechenland\\nGrönland\\nGuadeloupe\\nGuam\\nGuatemala\\nGuernsey\\nGuinea\\nGuinea-Bissau\\nGuyana\\nHaiti\\nHeard und McDonaldinseln\\nHonduras\\nHongkong\\nIndien\\nIndonesien\\nIrak\\nIrland\\nIsland\\nIsle of Man\\nIsrael\\nItalien\\nJamaika\\nJapan\\nJemen\\nJersey\\nJordanien\\nKaimaninseln\\nKambodscha\\nKamerun\\nKanada\\nKap Verde\\nKaribische Niederlande (Bonaire, Sint Eustatius und Saba)\\nKasachstan\\nKatar\\nKenia\\nKirgisistan\\nKiribati\\nKokosinseln\\nKolumbien\\nKomoren\\nKongo, Demokratische Republik\\nKorea, Republik\\nKosovo\\nKroatien\\nKuwait\\nLaos\\nLesotho\\nLettland\\nLibanon\\nLiberia\\nLiechtenstein\\nLitauen\\nLuxemburg\\nLybien\\nMacao\\nMadagaskar\\nMalawi\\nMalaysia\\nMalediven\\nMali\\nMalta\\nMarokko\\nMarshallinseln\\nMartinique\\nMauretanien\\nMauritius\\nMayotte\\nMexiko\\nMikronesien\\nMoldawien\\nMonaco\\nMongolei\\nMontenegro\\nMontserrat\\nMosambik\\nMyanmar\\nNamibia\\nNauru\\nNepal\\nNeukaledonien\\nNeuseeland\\nNicaragua\\nNiederlande\\nNiederländische Antillen\\nNiger\\nNigeria\\nNiue\\nNördliche Marianen\\nNordmazedonien\\nNorfolkinsel\\nNorwegen\\nOman\\nÖsterreich\\nPakistan\\nPalästinensische Autonomiegebiete\\nPalau\\nPanama\\nPapua-Neuguinea\\nParaguay\\nPeru\\nPhilippinen\\nPolen\\nPortugal\\nPuerto Rico\\nRepublik Kongo\\nRéunion\\nRuanda\\nRumänien\\nSaint-Barthélemy\\nSaint-Martin\\nSaint-Pierre und Miquelon\\nSalomonen\\nSambia\\nSamoa\\nSan Marino\\nSão Tomé und Príncipe\\nSaudi-Arabien\\nSchweden\\nSchweiz\\nSenegal\\nSerbien\\nSerbien und Montenegro\\nSeychellen\\nSierra Leone\\nSimbabwe\\nSingapur\\nSint Maarten\\nSlowakei\\nSlowenien\\nSomalia\\nSpanien\\nSpitzbergen und Jan Mayen\\nSri Lanka\\nSt. Helena und Tristan da Cunha\\nSt. Kitts und Nevis\\nSt. Lucia\\nSt. Vincent und Grenadinen\\nSüdafrika\\nSudan\\nSüdgeorgien und Südliche Sandwichinseln\\nSüdsudan\\nSuriname\\nSwasiland\\nTadschikistan\\nTaiwan\\nTansania\\nThailand\\nTimor-Leste, Demokratische Republik\\nTogo\\nTokelau\\nTonga\\nTrinidad und Tobago\\nTschad\\nTschechische Republik\\nTunesien\\nTürkei\\nTurkmenistan\\nTurks- und Caicosinseln\\nTuvalu\\nUganda\\nUkraine\\nUngarn\\nUnited States Minor Outlying Islands\\nUruguay\\nUSA\\nUsbekistan\\nVanuatu\\nVatikanstadt\\nVenezuela\\nVereinigte Arabische Emirate\\nVereinigtes Königreich\\nVietnam\\nVolksrepublik China\\nWallis und Futuna\\nWeihnachtsinsel\\nWestsahara\\nZentralafrikanische Republik\\nZypern\\n\\n\\n\\n\\n\\n\\n                        Postleitzahl\\n            \\n\\n\\n                        Bitte eine gültige Postleitzahl angeben.\\n            \\n\\n\\n\\n                Senden\\n                \\n    \\n\\n        Wird geladen\\n    \\n\\n\\n\\n\\n\\n    Versand aus Ukraine\\n\\n\\n\\n'"
      ]
     },
     "execution_count": 98,
     "metadata": {},
     "output_type": "execute_result"
    }
   ],
   "source": [
    "soup.select(\"#shipping-variant-div > div > div.wt-grid.wt-mb-xs-3\")[0].text.split('\\nVersandkosten\\n')[1]"
   ]
  },
  {
   "cell_type": "code",
   "execution_count": 99,
   "id": "eb230dd0",
   "metadata": {
    "scrolled": true
   },
   "outputs": [],
   "source": [
    "ship_cost_germany= []\n",
    "sc = soup.select(\"#shipping-variant-div > div > div.wt-grid.wt-mb-xs-3\")[0].text.split('\\nVersandkosten\\n')[1]\n",
    "sc = sc.split('\\n\\n\\n\\n\\n\\n')[0]\n",
    "if sc == 'Kostenlos':\n",
    "    sc = 0           \n",
    "else:\n",
    "    sc = sc[:-2]\n",
    "    sc = float(sc.replace(\",\",\".\"))\n",
    "ship_cost_germany.append(sc)"
   ]
  },
  {
   "cell_type": "code",
   "execution_count": 100,
   "id": "a790516d",
   "metadata": {},
   "outputs": [
    {
     "data": {
      "text/plain": [
       "52.47"
      ]
     },
     "execution_count": 100,
     "metadata": {},
     "output_type": "execute_result"
    }
   ],
   "source": [
    "sc"
   ]
  },
  {
   "cell_type": "code",
   "execution_count": 92,
   "id": "42d08150",
   "metadata": {},
   "outputs": [
    {
     "ename": "IndexError",
     "evalue": "list index out of range",
     "output_type": "error",
     "traceback": [
      "\u001b[0;31m---------------------------------------------------------------------------\u001b[0m",
      "\u001b[0;31mIndexError\u001b[0m                                Traceback (most recent call last)",
      "Input \u001b[0;32mIn [92]\u001b[0m, in \u001b[0;36m<cell line: 1>\u001b[0;34m()\u001b[0m\n\u001b[0;32m----> 1\u001b[0m sc \u001b[38;5;241m=\u001b[39m re\u001b[38;5;241m.\u001b[39msplit(\u001b[38;5;124m'\u001b[39m\u001b[38;5;130;01m\\n\u001b[39;00m\u001b[38;5;124mVersandkosten\u001b[39m\u001b[38;5;130;01m\\n\u001b[39;00m\u001b[38;5;124m'\u001b[39m,\u001b[43msoup\u001b[49m\u001b[38;5;241;43m.\u001b[39;49m\u001b[43mselect\u001b[49m\u001b[43m(\u001b[49m\u001b[38;5;124;43m\"\u001b[39;49m\u001b[38;5;124;43m#shipping-variant-div > div > div.wt-grid.wt-mb-xs-3\u001b[39;49m\u001b[38;5;124;43m\"\u001b[39;49m\u001b[43m)\u001b[49m\u001b[43m[\u001b[49m\u001b[38;5;241;43m1\u001b[39;49m\u001b[43m]\u001b[49m\u001b[38;5;241m.\u001b[39mtext)[\u001b[38;5;241m1\u001b[39m]\n\u001b[1;32m      2\u001b[0m sc \u001b[38;5;241m=\u001b[39m re\u001b[38;5;241m.\u001b[39msplit(\u001b[38;5;124m'\u001b[39m\u001b[38;5;130;01m\\n\u001b[39;00m\u001b[38;5;130;01m\\n\u001b[39;00m\u001b[38;5;130;01m\\n\u001b[39;00m\u001b[38;5;130;01m\\n\u001b[39;00m\u001b[38;5;130;01m\\n\u001b[39;00m\u001b[38;5;130;01m\\n\u001b[39;00m\u001b[38;5;124m'\u001b[39m,sc)[\u001b[38;5;241m0\u001b[39m]\n",
      "\u001b[0;31mIndexError\u001b[0m: list index out of range"
     ]
    }
   ],
   "source": [
    "sc = re.split('\\nVersandkosten\\n',soup.select(\"#shipping-variant-div > div > div.wt-grid.wt-mb-xs-3\")[1].text)[1]\n",
    "sc = re.split('\\n\\n\\n\\n\\n\\n',sc)[0]"
   ]
  },
  {
   "cell_type": "code",
   "execution_count": 71,
   "id": "620bc276",
   "metadata": {
    "scrolled": true
   },
   "outputs": [
    {
     "data": {
      "text/plain": [
       "[10.0]"
      ]
     },
     "execution_count": 71,
     "metadata": {},
     "output_type": "execute_result"
    }
   ],
   "source": [
    "ship_cost_germany"
   ]
  },
  {
   "cell_type": "code",
   "execution_count": 87,
   "id": "c68db078",
   "metadata": {},
   "outputs": [],
   "source": [
    "sc = re.split('\\nVersandkosten\\n|\\n\\n\\n\\n\\n\\n\\n\\n                ',soup.select(\"#shipping-variant-div > div > div.wt-grid.wt-mb-xs-3\")[0].text)[1]\n"
   ]
  },
  {
   "cell_type": "code",
   "execution_count": 88,
   "id": "1bd9eb30",
   "metadata": {},
   "outputs": [
    {
     "data": {
      "text/plain": [
       "'52,47 €\\n\\n\\n\\n\\n\\nWiderruf & Umtausch\\nAkzeptiert\\nAusnahmen sind möglich\\n\\n\\nReturn & exchange window\\n30 Tage\\nfrom item delivery\\n'"
      ]
     },
     "execution_count": 88,
     "metadata": {},
     "output_type": "execute_result"
    }
   ],
   "source": [
    "sc"
   ]
  },
  {
   "cell_type": "code",
   "execution_count": 86,
   "id": "c3b4c88b",
   "metadata": {},
   "outputs": [
    {
     "data": {
      "text/plain": [
       "'\\n\\n\\n\\n\\n                Wird geladen...\\n            \\n\\n\\n\\n\\n\\n\\n\\n\\nLieferung\\n\\n\\n\\n        Der Liefertermin wird vom Verkäufer angegeben und kann von deinem Kaufdatum, dem Wohnort des Empfängers, der Bearbeitungszeit und dem Standort des Verkäufers sowie dem Versandanbieter abhängen.\\n    \\n\\nMehr erfahren\\n\\n\\n\\n18. Nov-02. Dez \\n\\n\\n\\n\\n\\n\\n\\n\\n\\n\\n\\n\\n\\n\\n31. Okt\\n\\nBestellung aufgegeben\\n\\n\\n\\n                Nachdem du deine Bestellung aufgegeben hast, benötigt BeverlyCoStore 1\\xa0–\\xa02 Wochen, um sie versandfertig zu machen.\\n            \\n\\n\\n\\n\\n\\n\\n\\n\\n\\n\\n\\n\\n\\n\\n\\n\\n07.-14. Nov\\n\\nBestellung wird verschickt\\n\\n\\n\\n                BeverlyCoStore bringt deine Bestellung zur Post.\\n            \\n\\n\\n\\n\\n\\n\\n\\n\\n\\n\\n\\n\\n\\n18. Nov-02. Dez\\n\\nZugestellt!\\n\\n\\n\\n                Ankunft bei dir zuhause am 18. Nov-02. Dez!\\n            \\n\\n\\n\\n\\n\\n\\n\\n\\n\\n\\nVersandkosten\\n52,47 €\\n\\n\\n\\n\\n\\nWiderruf & Umtausch\\nAkzeptiert\\nAusnahmen sind möglich\\n\\n\\nReturn & exchange window\\n30 Tage\\nfrom item delivery\\n\\n\\n\\n\\n\\n\\n\\n\\n                Etsy kompensiert die CO2-Emissionen, die durch Versand und Verpackung bei diesem Kauf entstehen.\\n            \\n\\n\\n\\n                Etsy kompensiert die CO2-Emissionen, die durch Versand und Verpackung bei diesem Kauf entstehen.\\n            \\n\\n\\n\\n\\n\\n\\nLieferung nach Deutschland\\n\\n\\n\\n\\n\\nBei der Berechnung deiner Versandkosten ist ein Problem aufgetreten. Bitte versuche es erneut.\\n\\n\\n\\nLand\\n\\n\\n\\n----------\\nAustralien\\nDeutschland\\nFrankreich\\nGriechenland\\nIndien\\nIrland\\nItalien\\nJapan\\nKanada\\nNeuseeland\\nNiederlande\\nPolen\\nPortugal\\nSpanien\\nUSA\\nVereinigtes Königreich\\n----------\\nAfghanistan\\nÄgypten\\nÅland\\nAlbanien\\nAlgerien\\nAmerikanische Jungferninseln\\nAmerikanisch-Samoa\\nAndorra\\nAngola\\nAnguilla\\nAntarktika\\nAntigua und Barbuda\\nÄquatorialguinea\\nArgentinien\\nArmenien\\nAruba\\nAserbaidschan\\nÄthiopien\\nAustralien\\nBahamas\\nBahrain\\nBangladesch\\nBarbados\\nBelgien\\nBelize\\nBenin\\nBermuda\\nBhutan\\nBolivien\\nBosnien und Herzegowina\\nBotswana\\nBouvetinsel\\nBrasilien\\nBritische Jungferninseln\\nBritisches Territorium im Indischen Ozean\\nBrunei Darussalam\\nBulgarien\\nBurkina Faso\\nBurundi\\nChile\\nCookinseln\\nCosta Rica\\nCuraçao\\nDänemark\\nDeutschland\\nDominica\\nDominikanische Republik\\nDschibuti\\nEcuador\\nElfenbeinküste\\nEl Salvador\\nEritrea\\nEstland\\nFalklandinseln\\nFäröer\\nFidschi\\nFinnland\\nFrankreich\\nFranzösische Süd- und Antarktisgebiete\\nFranzösisch-Guayana\\nFranzösisch-Polynesien\\nGabun\\nGambia\\nGeorgien\\nGhana\\nGibraltar\\nGrenada\\nGriechenland\\nGrönland\\nGuadeloupe\\nGuam\\nGuatemala\\nGuernsey\\nGuinea\\nGuinea-Bissau\\nGuyana\\nHaiti\\nHeard und McDonaldinseln\\nHonduras\\nHongkong\\nIndien\\nIndonesien\\nIrak\\nIrland\\nIsland\\nIsle of Man\\nIsrael\\nItalien\\nJamaika\\nJapan\\nJemen\\nJersey\\nJordanien\\nKaimaninseln\\nKambodscha\\nKamerun\\nKanada\\nKap Verde\\nKaribische Niederlande (Bonaire, Sint Eustatius und Saba)\\nKasachstan\\nKatar\\nKenia\\nKirgisistan\\nKiribati\\nKokosinseln\\nKolumbien\\nKomoren\\nKongo, Demokratische Republik\\nKorea, Republik\\nKosovo\\nKroatien\\nKuwait\\nLaos\\nLesotho\\nLettland\\nLibanon\\nLiberia\\nLiechtenstein\\nLitauen\\nLuxemburg\\nLybien\\nMacao\\nMadagaskar\\nMalawi\\nMalaysia\\nMalediven\\nMali\\nMalta\\nMarokko\\nMarshallinseln\\nMartinique\\nMauretanien\\nMauritius\\nMayotte\\nMexiko\\nMikronesien\\nMoldawien\\nMonaco\\nMongolei\\nMontenegro\\nMontserrat\\nMosambik\\nMyanmar\\nNamibia\\nNauru\\nNepal\\nNeukaledonien\\nNeuseeland\\nNicaragua\\nNiederlande\\nNiederländische Antillen\\nNiger\\nNigeria\\nNiue\\nNördliche Marianen\\nNordmazedonien\\nNorfolkinsel\\nNorwegen\\nOman\\nÖsterreich\\nPakistan\\nPalästinensische Autonomiegebiete\\nPalau\\nPanama\\nPapua-Neuguinea\\nParaguay\\nPeru\\nPhilippinen\\nPolen\\nPortugal\\nPuerto Rico\\nRepublik Kongo\\nRéunion\\nRuanda\\nRumänien\\nSaint-Barthélemy\\nSaint-Martin\\nSaint-Pierre und Miquelon\\nSalomonen\\nSambia\\nSamoa\\nSan Marino\\nSão Tomé und Príncipe\\nSaudi-Arabien\\nSchweden\\nSchweiz\\nSenegal\\nSerbien\\nSerbien und Montenegro\\nSeychellen\\nSierra Leone\\nSimbabwe\\nSingapur\\nSint Maarten\\nSlowakei\\nSlowenien\\nSomalia\\nSpanien\\nSpitzbergen und Jan Mayen\\nSri Lanka\\nSt. Helena und Tristan da Cunha\\nSt. Kitts und Nevis\\nSt. Lucia\\nSt. Vincent und Grenadinen\\nSüdafrika\\nSudan\\nSüdgeorgien und Südliche Sandwichinseln\\nSüdsudan\\nSuriname\\nSwasiland\\nTadschikistan\\nTaiwan\\nTansania\\nThailand\\nTimor-Leste, Demokratische Republik\\nTogo\\nTokelau\\nTonga\\nTrinidad und Tobago\\nTschad\\nTschechische Republik\\nTunesien\\nTürkei\\nTurkmenistan\\nTurks- und Caicosinseln\\nTuvalu\\nUganda\\nUkraine\\nUngarn\\nUnited States Minor Outlying Islands\\nUruguay\\nUSA\\nUsbekistan\\nVanuatu\\nVatikanstadt\\nVenezuela\\nVereinigte Arabische Emirate\\nVereinigtes Königreich\\nVietnam\\nVolksrepublik China\\nWallis und Futuna\\nWeihnachtsinsel\\nWestsahara\\nZentralafrikanische Republik\\nZypern\\n\\n\\n\\n\\n\\n\\n                        Postleitzahl\\n            \\n\\n\\n                        Bitte eine gültige Postleitzahl angeben.\\n            \\n\\n\\n\\n                Senden\\n                \\n    \\n\\n        Wird geladen\\n    \\n\\n\\n\\n\\n\\n    Versand aus Ukraine\\n\\n\\n\\n\\n\\n\\n\\n    AGB anzeigen\\n\\n\\n\\n\\n\\n\\n'"
      ]
     },
     "execution_count": 86,
     "metadata": {},
     "output_type": "execute_result"
    }
   ],
   "source": [
    "soup.select(\"#shipping-variant-div\")[0].text"
   ]
  },
  {
   "cell_type": "code",
   "execution_count": 63,
   "id": "a21fdda1",
   "metadata": {
    "scrolled": true
   },
   "outputs": [
    {
     "data": {
      "text/plain": [
       "'Kostenlos'"
      ]
     },
     "execution_count": 63,
     "metadata": {},
     "output_type": "execute_result"
    }
   ],
   "source": [
    "re.split('\\nVersandkosten\\n|\\n\\n\\n\\n\\n\\n\\n\\n                ',soup.select(\"#shipping-variant-div\")[0].text)[1]"
   ]
  },
  {
   "cell_type": "code",
   "execution_count": 45,
   "id": "fc0bd916",
   "metadata": {},
   "outputs": [],
   "source": [
    "f=f[:-2]"
   ]
  },
  {
   "cell_type": "code",
   "execution_count": 46,
   "id": "d9a742c4",
   "metadata": {},
   "outputs": [
    {
     "data": {
      "text/plain": [
       "\"Etsy offsets carbon emissions from shipping and packaging on this purchase.\\n            \\n\\n\\n\\n                Etsy offsets carbon emissions from shipping and packaging on this purchase.\\n            \\n\\n\\n\\n\\n\\n\\n\\nReturns\\nAccepted\\n\\n\\n\\n\\n\\n\\n\\n\\n\\n\\n\\n\\n\\n\\n\\n\\n\\n\\n\\n\\n\\n\\n\\n\\n\\n\\n\\n\\n\\n\\n\\n\\n\\n\\n\\n\\nEtsy Purchase Protection:\\n            Shop confidently on Etsy knowing if something goes wrong with an order. we've got your back for all eligible purchases —\\n            see program terms\\n\\n\\n\\n\\n\\nGet shipping cost\\n\\n\\n\\n\\n\\nThere was a problem calculating your shipping. Please try again.\\n\\n\\n\\nCountry\\n\\n\\n\\n----------\\nAustralia\\nCanada\\nFrance\\nGermany\\nGreece\\nIndia\\nIreland\\nItaly\\nJapan\\nNew Zealand\\nPoland\\nPortugal\\nSpain\\nThe Netherlands\\nUnited Kingdom\\nUnited States\\n----------\\nAfghanistan\\nÅland Islands\\nAlbania\\nAlgeria\\nAmerican Samoa\\nAndorra\\nAngola\\nAnguilla\\nAntigua and Barbuda\\nArgentina\\nArmenia\\nAruba\\nAustralia\\nAustria\\nAzerbaijan\\nBahamas\\nBahrain\\nBangladesh\\nBarbados\\nBelgium\\nBelize\\nBenin\\nBermuda\\nBhutan\\nBolivia\\nBosnia and Herzegovina\\nBotswana\\nBouvet Island\\nBrazil\\nBritish Indian Ocean Territory\\nBritish Virgin Islands\\nBrunei\\nBulgaria\\nBurkina Faso\\nBurundi\\nCambodia\\nCameroon\\nCanada\\nCape Verde\\nCayman Islands\\nCentral African Republic\\nChad\\nChile\\nChina\\nChristmas Island\\nCocos (Keeling) Islands\\nColombia\\nComoros\\nCongo. Republic of\\nCook Islands\\nCosta Rica\\nCroatia\\nCuraçao\\nCyprus\\nCzech Republic\\nDenmark\\nDjibouti\\nDominica\\nDominican Republic\\nEcuador\\nEgypt\\nEl Salvador\\nEquatorial Guinea\\nEritrea\\nEstonia\\nEthiopia\\nFalkland Islands (Malvinas)\\nFaroe Islands\\nFiji\\nFinland\\nFrance\\nFrench Guiana\\nFrench Polynesia\\nFrench Southern Territories\\nGabon\\nGambia\\nGeorgia\\nGermany\\nGhana\\nGibraltar\\nGreece\\nGreenland\\nGrenada\\nGuadeloupe\\nGuam\\nGuatemala\\nGuernsey\\nGuinea\\nGuinea-Bissau\\nGuyana\\nHaiti\\nHeard Island and McDonald Islands\\nHoly See (Vatican City State)\\nHonduras\\nHong Kong\\nHungary\\nIceland\\nIndia\\nIndonesia\\nIraq\\nIreland\\nIsle of Man\\nIsrael\\nItaly\\nIvory Coast\\nJamaica\\nJapan\\nJersey\\nJordan\\nKazakhstan\\nKenya\\nKiribati\\nKosovo\\nKuwait\\nKyrgyzstan\\nLaos\\nLatvia\\nLebanon\\nLesotho\\nLiberia\\nLibya\\nLiechtenstein\\nLithuania\\nLuxembourg\\nMacao\\nMacedonia\\nMadagascar\\nMalawi\\nMalaysia\\nMaldives\\nMali\\nMalta\\nMarshall Islands\\nMartinique\\nMauritania\\nMauritius\\nMayotte\\nMexico\\nMicronesia. Federated States of\\nMoldova\\nMonaco\\nMongolia\\nMontenegro\\nMontserrat\\nMorocco\\nMozambique\\nMyanmar (Burma)\\nNamibia\\nNauru\\nNepal\\nNetherlands Antilles\\nNew Caledonia\\nNew Zealand\\nNicaragua\\nNiger\\nNigeria\\nNiue\\nNorfolk Island\\nNorthern Mariana Islands\\nNorway\\nOman\\nPakistan\\nPalau\\nPalestinian Territory. Occupied\\nPanama\\nPapua New Guinea\\nParaguay\\nPeru\\nPhilippines\\nPoland\\nPortugal\\nPuerto Rico\\nQatar\\nReunion\\nRomania\\nRwanda\\nSaint Helena\\nSaint Kitts and Nevis\\nSaint Lucia\\nSaint Martin (French part)\\nSaint Pierre and Miquelon\\nSaint Vincent and the Grenadines\\nSamoa\\nSan Marino\\nSao Tome and Principe\\nSaudi Arabia\\nSenegal\\nSerbia\\nSeychelles\\nSierra Leone\\nSingapore\\nSint Maarten (Dutch part)\\nSlovakia\\nSlovenia\\nSolomon Islands\\nSomalia\\nSouth Africa\\nSouth Georgia and the South Sandwich Islands\\nSouth Korea\\nSouth Sudan\\nSpain\\nSri Lanka\\nSudan\\nSuriname\\nSvalbard and Jan Mayen\\nSwaziland\\nSweden\\nSwitzerland\\nTaiwan\\nTajikistan\\nTanzania\\nThailand\\nThe Netherlands\\nTimor-Leste\\nTogo\\nTokelau\\nTonga\\nTrinidad\\nTunisia\\nTurkey\\nTurkmenistan\\nTurks and Caicos Islands\\nTuvalu\\nUganda\\nUkraine\\nUnited Arab Emirates\\nUnited Kingdom\\nUnited States\\nUnited States Minor Outlying Islands\\nUruguay\\nU.S. Virgin Islands\\nUzbekistan\\nVanuatu\\nVenezuela\\nVietnam\\nWallis and Futuna\\nWestern Sahara\\nYemen\\nZaire (Democratic Republic of Congo)\\nZambia\\nZimbabwe\\n\\n\\n\\n\\n\\n\\n                        Zip code\\n            \\n\\n\\n                        Please enter a valid zip code.\\n            \\n\\n\\n\\n                Submit\\n                \\n    \\n\\n        Loading\\n    \\n\\n\\n\\n\\n\\n    Ships from Spain\\n\\n\""
      ]
     },
     "execution_count": 46,
     "metadata": {},
     "output_type": "execute_result"
    }
   ],
   "source": [
    "f.replace(\",\",\".\")"
   ]
  },
  {
   "cell_type": "code",
   "execution_count": null,
   "id": "e67d45e8",
   "metadata": {},
   "outputs": [],
   "source": [
    "f"
   ]
  },
  {
   "cell_type": "code",
   "execution_count": null,
   "id": "3ed0be24",
   "metadata": {},
   "outputs": [],
   "source": [
    "rx = re.compile('[-+]? (?: (?: \\d* \\, \\d+ ) | (?: \\d+ \\,? ) )(?: [Ee] [+-]? \\d+ ) ?', re.VERBOSE)"
   ]
  },
  {
   "cell_type": "code",
   "execution_count": null,
   "id": "512bb284",
   "metadata": {},
   "outputs": [],
   "source": [
    "i = \"#shipping-variant-div > div > div.wt-grid.wt-mb-xs-3 > div:nth-child(3)\""
   ]
  },
  {
   "cell_type": "code",
   "execution_count": null,
   "id": "98d50220",
   "metadata": {
    "scrolled": true
   },
   "outputs": [],
   "source": [
    "rx.findall(soup.select(\"#shipping-variant-div > div > div.wt-grid.wt-mb-xs-3\")[0].get_text())"
   ]
  },
  {
   "cell_type": "code",
   "execution_count": null,
   "id": "41acf6df",
   "metadata": {
    "scrolled": true
   },
   "outputs": [],
   "source": [
    "rx = re.compile('[-+]? (?: (?: \\d* \\, \\d+ ) | (?: \\d+ \\,? ) )(?: [Ee] [+-]? \\d+ ) ?', re.VERBOSE)\n",
    "t = rx.findall(soup.select(i)[0].get_text())[0]\n",
    "t = t.replace(\",\",\".\")"
   ]
  },
  {
   "cell_type": "markdown",
   "id": "5e2bb0bb",
   "metadata": {},
   "source": [
    "### extracting size range"
   ]
  },
  {
   "cell_type": "code",
   "execution_count": null,
   "id": "d5fc1e1f",
   "metadata": {},
   "outputs": [],
   "source": [
    "i = \"#listing-page-cart > div.wt-mb-xs-6.wt-mb-lg-0 > div:nth-child(1) > div.wt-mb-xs-3 > div:nth-child(4) > div\""
   ]
  },
  {
   "cell_type": "code",
   "execution_count": null,
   "id": "70f28b8b",
   "metadata": {},
   "outputs": [],
   "source": [
    "i = \"#listing-page-cart > div.wt-mb-xs-6.wt-mb-lg-0 > div:nth-child(1) > div.wt-mb-xs-3\""
   ]
  },
  {
   "cell_type": "code",
   "execution_count": null,
   "id": "05efb114",
   "metadata": {},
   "outputs": [],
   "source": [
    "len(soup.select(i)[0].select(\"option\")[1:])"
   ]
  },
  {
   "cell_type": "code",
   "execution_count": null,
   "id": "ee0e2a3f",
   "metadata": {},
   "outputs": [],
   "source": [
    "try:\n",
    "    test = len(soup.select(\"#listing-page-cart > div.wt-mb-xs-6.wt-mb-lg-0 > div:nth-child(1) > div.wt-mb-xs-3 > div:nth-child(4) > div\")[0].select(\"option\")[1:])\n",
    "except IndexError:\n",
    "    test = len(soup.select(\"#listing-page-cart > div.wt-mb-xs-6.wt-mb-lg-0 > div:nth-child(1) > div.wt-mb-xs-3\")[0].select(\"option\")[1:])\n",
    "print(test)"
   ]
  },
  {
   "cell_type": "code",
   "execution_count": null,
   "id": "990e9722",
   "metadata": {},
   "outputs": [],
   "source": [
    "for i in range(5):\n",
    "    print(x)\n"
   ]
  },
  {
   "cell_type": "code",
   "execution_count": null,
   "id": "e38c2dde",
   "metadata": {},
   "outputs": [],
   "source": [
    "soup.select(\"#listing-page-cart > div.wt-mb-xs-6.wt-mb-lg-0 > div:nth-child(1) > div.wt-mb-xs-3 > div:nth-child(3) > div\")[0].select(\"option\")[1:]"
   ]
  },
  {
   "cell_type": "code",
   "execution_count": null,
   "id": "d9c24c96",
   "metadata": {},
   "outputs": [],
   "source": [
    "x"
   ]
  },
  {
   "cell_type": "code",
   "execution_count": null,
   "id": "ef8032b8",
   "metadata": {},
   "outputs": [],
   "source": [
    "a=soup.select(i)[0]"
   ]
  },
  {
   "cell_type": "code",
   "execution_count": null,
   "id": "4755a31b",
   "metadata": {},
   "outputs": [],
   "source": [
    "b=soup.select(i)[0]"
   ]
  },
  {
   "cell_type": "code",
   "execution_count": null,
   "id": "af3b5396",
   "metadata": {},
   "outputs": [],
   "source": [
    "soup.find(\"#listing-page-cart > div.wt-mb-xs-6.wt-mb-lg-0 > div:nth-child(1) > div.wt-mb-xs-3 > div:nth-child(4) > div\")"
   ]
  },
  {
   "cell_type": "code",
   "execution_count": null,
   "id": "10b54215",
   "metadata": {},
   "outputs": [],
   "source": [
    "range = int(soup.select(i)[0].text.count(\"$\"))"
   ]
  },
  {
   "cell_type": "code",
   "execution_count": null,
   "id": "70f60fae",
   "metadata": {},
   "outputs": [],
   "source": [
    "range"
   ]
  },
  {
   "cell_type": "code",
   "execution_count": null,
   "id": "673704e2",
   "metadata": {},
   "outputs": [],
   "source": [
    "b.text.count(\"$\")"
   ]
  },
  {
   "cell_type": "code",
   "execution_count": null,
   "id": "ee19df61",
   "metadata": {
    "scrolled": true
   },
   "outputs": [],
   "source": [
    "len(b)"
   ]
  },
  {
   "cell_type": "code",
   "execution_count": null,
   "id": "48634139",
   "metadata": {},
   "outputs": [],
   "source": [
    "d=b.select(\"option\")[1:]"
   ]
  },
  {
   "cell_type": "code",
   "execution_count": null,
   "id": "d3f9e17d",
   "metadata": {},
   "outputs": [],
   "source": [
    "len(d)"
   ]
  },
  {
   "cell_type": "code",
   "execution_count": null,
   "id": "ffd48b20",
   "metadata": {},
   "outputs": [],
   "source": [
    "e"
   ]
  },
  {
   "cell_type": "code",
   "execution_count": null,
   "id": "fa9a1496",
   "metadata": {},
   "outputs": [],
   "source": [
    "c=b.text"
   ]
  },
  {
   "cell_type": "code",
   "execution_count": null,
   "id": "dc574c43",
   "metadata": {},
   "outputs": [],
   "source": [
    "b.text.count(\"$\")"
   ]
  },
  {
   "cell_type": "code",
   "execution_count": null,
   "id": "0978e159",
   "metadata": {},
   "outputs": [],
   "source": [
    "c.count(\"$\")"
   ]
  },
  {
   "cell_type": "code",
   "execution_count": null,
   "id": "db00ee92",
   "metadata": {},
   "outputs": [],
   "source": [
    "a.text[101:]"
   ]
  },
  {
   "cell_type": "code",
   "execution_count": null,
   "id": "99e1f014",
   "metadata": {},
   "outputs": [],
   "source": []
  },
  {
   "cell_type": "code",
   "execution_count": null,
   "id": "d0a552c6",
   "metadata": {},
   "outputs": [],
   "source": []
  },
  {
   "cell_type": "code",
   "execution_count": null,
   "id": "b98449e8",
   "metadata": {},
   "outputs": [],
   "source": []
  },
  {
   "cell_type": "code",
   "execution_count": null,
   "id": "4c7f718b",
   "metadata": {},
   "outputs": [],
   "source": []
  },
  {
   "cell_type": "markdown",
   "id": "974e5ead",
   "metadata": {},
   "source": [
    "Extracting Shop Name Experimentation"
   ]
  },
  {
   "cell_type": "code",
   "execution_count": null,
   "id": "2db3b55d",
   "metadata": {},
   "outputs": [],
   "source": [
    "i = \"#listing-page-cart > div:nth-child(1) > div > div.wt-display-flex-xs.wt-align-items-center.wt-mb-xs-1 > p\""
   ]
  },
  {
   "cell_type": "code",
   "execution_count": null,
   "id": "29cc93f1",
   "metadata": {},
   "outputs": [],
   "source": [
    "d = soup.select(i)[0].get_text()"
   ]
  },
  {
   "cell_type": "code",
   "execution_count": null,
   "id": "5b9836b1",
   "metadata": {},
   "outputs": [],
   "source": [
    "a"
   ]
  },
  {
   "cell_type": "code",
   "execution_count": null,
   "id": "2b7d83b8",
   "metadata": {},
   "outputs": [],
   "source": [
    "b"
   ]
  },
  {
   "cell_type": "code",
   "execution_count": null,
   "id": "7a25b7fd",
   "metadata": {},
   "outputs": [],
   "source": [
    "c"
   ]
  },
  {
   "cell_type": "code",
   "execution_count": null,
   "id": "33b9665a",
   "metadata": {},
   "outputs": [],
   "source": [
    "d"
   ]
  },
  {
   "cell_type": "code",
   "execution_count": null,
   "id": "6bb7752d",
   "metadata": {},
   "outputs": [],
   "source": [
    "d[31:]"
   ]
  },
  {
   "cell_type": "code",
   "execution_count": null,
   "id": "8746c470",
   "metadata": {},
   "outputs": [],
   "source": [
    "b[:-27]"
   ]
  },
  {
   "cell_type": "code",
   "execution_count": null,
   "id": "baf6f831",
   "metadata": {},
   "outputs": [],
   "source": [
    "test=d[31:]"
   ]
  },
  {
   "cell_type": "code",
   "execution_count": null,
   "id": "d574fd44",
   "metadata": {},
   "outputs": [],
   "source": [
    "test[:-27]"
   ]
  },
  {
   "cell_type": "code",
   "execution_count": null,
   "id": "aae8b370",
   "metadata": {
    "scrolled": true
   },
   "outputs": [],
   "source": [
    "pattern = '([A-Z][a-z]+ ?[A-Z][a-z]+)|([A-Z][a-z]+)'\n",
    "print(re.findall(pattern, a))"
   ]
  },
  {
   "cell_type": "markdown",
   "id": "41a85407",
   "metadata": {},
   "source": [
    "Exctracting Price experimentation"
   ]
  },
  {
   "cell_type": "code",
   "execution_count": null,
   "id": "59604e89",
   "metadata": {},
   "outputs": [],
   "source": [
    "i = \"#listing-page-cart > div.wt-mb-xs-6.wt-mb-lg-0 > div:nth-child(1) > div.wt-mb-xs-3 > div.wt-mb-xs-3 > div:nth-child(1) > div > div.wt-display-flex-xs.wt-align-items-center.wt-flex-wrap > p\""
   ]
  },
  {
   "cell_type": "code",
   "execution_count": null,
   "id": "0224678e",
   "metadata": {},
   "outputs": [],
   "source": []
  },
  {
   "cell_type": "code",
   "execution_count": null,
   "id": "f2cb6e75",
   "metadata": {},
   "outputs": [],
   "source": [
    "rx = re.compile('[-+]? (?: (?: \\d* \\, \\d+ ) | (?: \\d+ \\,? ) )(?: [Ee] [+-]? \\d+ ) ?', re.VERBOSE)\n",
    "t = rx.findall(soup.select(i)[0].get_text())[0]\n",
    "t = t.replace(\",\",\".\")"
   ]
  },
  {
   "cell_type": "code",
   "execution_count": null,
   "id": "08f011d3",
   "metadata": {},
   "outputs": [],
   "source": [
    "t"
   ]
  },
  {
   "cell_type": "code",
   "execution_count": null,
   "id": "1d2aefeb",
   "metadata": {
    "scrolled": false
   },
   "outputs": [],
   "source": [
    "soup.select(\"meta\", property=\"product:price:amount\")[28]"
   ]
  },
  {
   "cell_type": "code",
   "execution_count": null,
   "id": "fa572963",
   "metadata": {},
   "outputs": [],
   "source": [
    "t = soup.select(\"meta\", property=\"product:price:amount\")[28]"
   ]
  },
  {
   "cell_type": "code",
   "execution_count": null,
   "id": "473fbd5b",
   "metadata": {},
   "outputs": [],
   "source": [
    "for i in range(41):\n",
    "    print(i, test[i], \"\"\"\n",
    "    \"\"\")"
   ]
  },
  {
   "cell_type": "code",
   "execution_count": null,
   "id": "0d670fde",
   "metadata": {},
   "outputs": [],
   "source": [
    "soup.find(\"meta\", property)"
   ]
  },
  {
   "cell_type": "code",
   "execution_count": null,
   "id": "9b0ef005",
   "metadata": {},
   "outputs": [],
   "source": [
    "for tag in soup.find_all(\"meta\"):\n",
    "    if tag.get(\"meta\", None) == \"product:price:amount\":\n",
    "        print(tag.get(\"meta\", None))"
   ]
  },
  {
   "cell_type": "code",
   "execution_count": null,
   "id": "2cdd38b7",
   "metadata": {},
   "outputs": [],
   "source": [
    "soup.find(\"meta\", None) == \"product:price:amount\""
   ]
  },
  {
   "cell_type": "code",
   "execution_count": null,
   "id": "97e4dde8",
   "metadata": {},
   "outputs": [],
   "source": [
    "print(soup.prettify())"
   ]
  },
  {
   "cell_type": "code",
   "execution_count": null,
   "id": "d5e958ee",
   "metadata": {},
   "outputs": [],
   "source": []
  },
  {
   "cell_type": "markdown",
   "id": "b01b4c82",
   "metadata": {},
   "source": [
    "extracting search results from search page"
   ]
  },
  {
   "cell_type": "code",
   "execution_count": null,
   "id": "86084b6c",
   "metadata": {},
   "outputs": [],
   "source": [
    "url = \"https://www.etsy.com/search/clothing/girls-clothing/dresses?q=flower+girl+dress&explicit=1&ship_to=DE&page=2&ref=pagination\""
   ]
  },
  {
   "cell_type": "code",
   "execution_count": null,
   "id": "be44fb16",
   "metadata": {},
   "outputs": [],
   "source": [
    "url = \"https://www.etsy.com/search/clothing/girls-clothing?explicit=1&q=flower+girl+dress&ship_to=DE&order=highest_reviews&page=1&ref=pagination\""
   ]
  },
  {
   "cell_type": "code",
   "execution_count": null,
   "id": "61a7c19d",
   "metadata": {},
   "outputs": [],
   "source": [
    "response = requests.get(url)\n",
    "response.status_code"
   ]
  },
  {
   "cell_type": "code",
   "execution_count": null,
   "id": "484220d9",
   "metadata": {},
   "outputs": [],
   "source": [
    "soup = BeautifulSoup(response.text,\"html.parser\")"
   ]
  },
  {
   "cell_type": "code",
   "execution_count": null,
   "id": "66b7e84d",
   "metadata": {},
   "outputs": [],
   "source": [
    "#content"
   ]
  },
  {
   "cell_type": "code",
   "execution_count": null,
   "id": "4a5f846e",
   "metadata": {},
   "outputs": [],
   "source": [
    "i = \"#content\""
   ]
  },
  {
   "cell_type": "code",
   "execution_count": null,
   "id": "3db71ee8",
   "metadata": {
    "scrolled": true
   },
   "outputs": [],
   "source": [
    "soup.select(i)[0]"
   ]
  },
  {
   "cell_type": "code",
   "execution_count": null,
   "id": "f6e14ce9",
   "metadata": {},
   "outputs": [],
   "source": []
  },
  {
   "cell_type": "code",
   "execution_count": null,
   "id": "47f4adbd",
   "metadata": {},
   "outputs": [],
   "source": []
  },
  {
   "cell_type": "code",
   "execution_count": null,
   "id": "1ef4e651",
   "metadata": {},
   "outputs": [],
   "source": []
  }
 ],
 "metadata": {
  "kernelspec": {
   "display_name": "Python 3 (ipykernel)",
   "language": "python",
   "name": "python3"
  },
  "language_info": {
   "codemirror_mode": {
    "name": "ipython",
    "version": 3
   },
   "file_extension": ".py",
   "mimetype": "text/x-python",
   "name": "python",
   "nbconvert_exporter": "python",
   "pygments_lexer": "ipython3",
   "version": "3.9.12"
  },
  "toc": {
   "base_numbering": 1,
   "nav_menu": {},
   "number_sections": true,
   "sideBar": true,
   "skip_h1_title": true,
   "title_cell": "Table of Contents",
   "title_sidebar": "Contents",
   "toc_cell": false,
   "toc_position": {},
   "toc_section_display": true,
   "toc_window_display": false
  },
  "varInspector": {
   "cols": {
    "lenName": 16,
    "lenType": 16,
    "lenVar": 40
   },
   "kernels_config": {
    "python": {
     "delete_cmd_postfix": "",
     "delete_cmd_prefix": "del ",
     "library": "var_list.py",
     "varRefreshCmd": "print(var_dic_list())"
    },
    "r": {
     "delete_cmd_postfix": ") ",
     "delete_cmd_prefix": "rm(",
     "library": "var_list.r",
     "varRefreshCmd": "cat(var_dic_list()) "
    }
   },
   "types_to_exclude": [
    "module",
    "function",
    "builtin_function_or_method",
    "instance",
    "_Feature"
   ],
   "window_display": false
  }
 },
 "nbformat": 4,
 "nbformat_minor": 5
}
